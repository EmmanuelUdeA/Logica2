{
  "nbformat": 4,
  "nbformat_minor": 0,
  "metadata": {
    "colab": {
      "provenance": [],
      "authorship_tag": "ABX9TyM1qR0o9SS/myTglH20p2Ke",
      "include_colab_link": true
    },
    "kernelspec": {
      "name": "python3",
      "display_name": "Python 3"
    },
    "language_info": {
      "name": "python"
    }
  },
  "cells": [
    {
      "cell_type": "markdown",
      "metadata": {
        "id": "view-in-github",
        "colab_type": "text"
      },
      "source": [
        "<a href=\"https://colab.research.google.com/github/EmmanuelUdeA/Logica2/blob/main/ArbolesLab.ipynb\" target=\"_parent\"><img src=\"https://colab.research.google.com/assets/colab-badge.svg\" alt=\"Open In Colab\"/></a>"
      ]
    },
    {
      "cell_type": "code",
      "execution_count": null,
      "metadata": {
        "id": "A8w3qoXWD-9X"
      },
      "outputs": [],
      "source": [
        "# LABORATORIO 06 tema árboles LOGICA 2\n",
        "\n",
        "# Realizado por Emmanuel Bustamante Valbuena  UdeA 2023-1"
      ]
    },
    {
      "cell_type": "code",
      "source": [
        "import numpy as np\n",
        "import matplotlib.pyplot as plt\n",
        "import bisect\n"
      ],
      "metadata": {
        "id": "XOsIiT_qBesl"
      },
      "execution_count": null,
      "outputs": []
    },
    {
      "cell_type": "code",
      "source": [
        "#Constructor de un árbol\n",
        "class TreeNode1(object):\n",
        "\n",
        "    def __init__(self, value=None):\n",
        "        self.value = value\n",
        "        self.children = []\n",
        "\n",
        "    def add_child(self, node):\n",
        "        self.children.append(node)\n",
        "        return self\n",
        "\n",
        "    def to_indented_string(self, level):\n",
        "        s = \" \"*level*2 + str(self.value)+\"\\n\"\n",
        "        if len(self.children)>0:\n",
        "            s += \"\".join([i.to_indented_string(level+1) for i in self.children])\n",
        "        return s\n",
        "\n",
        "    def __repr__(self):\n",
        "        return self.to_indented_string(level=0)"
      ],
      "metadata": {
        "id": "nqNL1pBnA3Ps"
      },
      "execution_count": null,
      "outputs": []
    },
    {
      "cell_type": "code",
      "source": [
        "t = TreeNode1(\"a\").\\\n",
        "        add_child(TreeNode1(\"b\").\\\n",
        "            add_child(TreeNode1(\"c\")).\\\n",
        "            add_child(TreeNode1(\"d\").\\\n",
        "              add_child(TreeNode1(\"e\")))).\\\n",
        "        add_child(TreeNode1(\"f\")).\\\n",
        "        add_child(TreeNode1(\"g\").\\\n",
        "            add_child(TreeNode1(\"h\")).\\\n",
        "            add_child(TreeNode1(\"i\").\\\n",
        "              add_child(TreeNode1(\"j\")).\n",
        "              add_child(TreeNode1(\"k\").\\\n",
        "                add_child(TreeNode1(\"l\")))).\\\n",
        "            add_child(TreeNode1(\"m\")).\\\n",
        "            add_child(TreeNode1(\"n\")))\n",
        "t"
      ],
      "metadata": {
        "id": "Epp4kJfQFYmT",
        "outputId": "7d8c4ed8-3186-4bfd-d4b2-436f14dff729",
        "colab": {
          "base_uri": "https://localhost:8080/"
        }
      },
      "execution_count": null,
      "outputs": [
        {
          "output_type": "execute_result",
          "data": {
            "text/plain": [
              "a\n",
              "  b\n",
              "    c\n",
              "    d\n",
              "      e\n",
              "  f\n",
              "  g\n",
              "    h\n",
              "    i\n",
              "      j\n",
              "      k\n",
              "        l\n",
              "    m\n",
              "    n"
            ]
          },
          "metadata": {},
          "execution_count": 5
        }
      ]
    },
    {
      "cell_type": "code",
      "source": [
        "class TreeNode2(TreeNode1):\n",
        "\n",
        "    def count_leaves(self):\n",
        "        if len(self.children)==0:\n",
        "            return 1\n",
        "        return sum([i.count_leaves() for i in self.children])\n",
        "\n",
        "    def height(self):\n",
        "        import numpy as np\n",
        "        if len(self.children)==0:\n",
        "            return 0\n",
        "        return np.max([i.height() for i in self.children])+1\n",
        "\n",
        "    def grade(self):\n",
        "        import numpy as np\n",
        "        return np.max([len(self.children)]+[i.grade() for i in self.children])"
      ],
      "metadata": {
        "id": "M5AjwhsOHL3l"
      },
      "execution_count": null,
      "outputs": []
    },
    {
      "cell_type": "code",
      "source": [
        "t = TreeNode2(1).add_child(TreeNode2(11).add_child(TreeNode2(111)).add_child(TreeNode2(112))).add_child(TreeNode2(12))\n",
        "print(t)\n",
        "print(\"nb leaves\", t.count_leaves()) #1,11,111,12 (solo se toma un elemento de la subcolumna)\n",
        "print(\"height   \", t.height()) # altura\n",
        "print(\"grade    \", t.grade())  #"
      ],
      "metadata": {
        "id": "IFv1fdLMHOfH"
      },
      "execution_count": null,
      "outputs": []
    },
    {
      "cell_type": "code",
      "source": [
        "t = TreeNode2(\"a\").\\\n",
        "        add_child(TreeNode2(\"b\").\\\n",
        "            add_child(TreeNode2(\"c\")).\\\n",
        "            add_child(TreeNode2(\"d\").\\\n",
        "              add_child(TreeNode2(\"e\")))).\\\n",
        "        add_child(TreeNode2(\"f\")).\\\n",
        "        add_child(TreeNode2(\"g\").\\\n",
        "            add_child(TreeNode2(\"h\")).\\\n",
        "            add_child(TreeNode2(\"i\").\\\n",
        "              add_child(TreeNode2(\"j\")).\n",
        "              add_child(TreeNode2(\"k\").\\\n",
        "                add_child(TreeNode2(\"l\")))).\\\n",
        "            add_child(TreeNode2(\"m\")).\\\n",
        "            add_child(TreeNode2(\"n\")))\n",
        "t"
      ],
      "metadata": {
        "id": "533cfhvsHZxm"
      },
      "execution_count": null,
      "outputs": []
    },
    {
      "cell_type": "code",
      "source": [
        "print(\"nb leaves\", t.count_leaves())\n",
        "print(\"height   \", t.height())\n",
        "print(\"grade    \", t.grade())"
      ],
      "metadata": {
        "id": "Je09oiwjHcR9"
      },
      "execution_count": null,
      "outputs": []
    },
    {
      "cell_type": "code",
      "source": [
        "# ---------- REPRESENTACION DE UN ARBOL EN UN VECTOR ---------------- #"
      ],
      "metadata": {
        "id": "reGlR3VAQqVd"
      },
      "execution_count": null,
      "outputs": []
    },
    {
      "cell_type": "code",
      "source": [
        "import numpy as np\n",
        "class VBinTree(object):\n",
        "\n",
        "    def __init__(self, v):\n",
        "        self.v = v\n",
        "\n",
        "    def get_height(self):\n",
        "        i,c=0,0\n",
        "        while c<len(self.v):\n",
        "            c += 2**i\n",
        "            i += 1\n",
        "        return i-1\n",
        "\n",
        "    def get_level(self, i):\n",
        "        n = 0\n",
        "        while sum([2**j for j in range(n)])<=i:\n",
        "            n+=1\n",
        "        return n-1\n",
        "\n",
        "    def get_children_positions(self, i):\n",
        "        return (2*i+1 if 2*i+1<len(self.v) else None,\\\n",
        "                2*i+2 if 2*i+2<len(self.v) else None)\n",
        "\n",
        "    def get_parent_position(self, i):\n",
        "        assert type(i)==int and i>=0\n",
        "        return (i-1)/2 if i!=0 else None\n",
        "\n",
        "    def get_sibling_position(self, i):\n",
        "        if i==0:\n",
        "            return None\n",
        "        return [k for k in self.get_children_positions(self.get_parent_position(i)) if k!=i][0]\n",
        "\n",
        "\n",
        "    def to_indented_string(self, i, level):\n",
        "        c = self.get_children_positions(i)\n",
        "        s = (\" \"*2*level + str(self.v[i]) + \"\\n\") if self.v[i] is not None else \"\"\n",
        "        s += self.to_indented_string(c[0],level+1) if c[0] is not None else \"\"\n",
        "        s += self.to_indented_string(c[1],level+1) if c[1] is not None else \"\"\n",
        "        return s\n",
        "\n",
        "    def __repr__(self):\n",
        "        return self.to_indented_string(0,0)"
      ],
      "metadata": {
        "id": "PzrpIUUHQvJ0"
      },
      "execution_count": null,
      "outputs": []
    },
    {
      "cell_type": "code",
      "source": [
        "v = [\"a\", \"b\", \"i\", \"c\", \"d\", \"j\", \"k\", \"e\", \"f\", \"g\", \"h\", \"l\", \"m\", \"n\", \"o\"]\n",
        "\n",
        "b = VBinTree(v)\n",
        "\n",
        "print(\"  node value  height     children parent\")\n",
        "for i in range(len(v)):\n",
        "    print(\"%5d\"%i, \"%5s\"%str(b.v[i]), \"%5d\"%b.get_level(i), \\\n",
        "          \"%15s\"%str(b.get_children_positions(i)), \\\n",
        "          \"%5s\"%str(b.get_parent_position(i)), \\\n",
        "          str(b.get_sibling_position(i)))"
      ],
      "metadata": {
        "id": "sQ1-2G7-Q2Q5"
      },
      "execution_count": null,
      "outputs": []
    },
    {
      "cell_type": "code",
      "source": [
        "# ARBOLES BINARIOS #"
      ],
      "metadata": {
        "id": "jnuQSGh5X-ej"
      },
      "execution_count": null,
      "outputs": []
    },
    {
      "cell_type": "code",
      "source": [
        "class BTNode:\n",
        "\n",
        "    def __init__(self, value, left=None, right=None):\n",
        "        self.value = value\n",
        "        self.left  = None\n",
        "        self.right = None\n",
        "        if left is not None:\n",
        "            self.add_left(left)\n",
        "        if right is not None:\n",
        "            self.add_right(right)\n",
        "\n",
        "    def add_left(self, value):\n",
        "        assert self.left is None, \"node already has left child\"\n",
        "        self.left  = self.__class__(value) if not isinstance(value,self.__class__) else value\n",
        "        return self\n",
        "\n",
        "    def add_right(self, value):\n",
        "        assert self.right is None, \"node already has right child\"\n",
        "        self.right  = self.__class__(value) if not isinstance(value,self.__class__) else value\n",
        "        return self\n",
        "\n",
        "    def swap_children(self):\n",
        "        tmp = self.left\n",
        "        self.left = self.right\n",
        "        self.right = self.left\n",
        "        return self\n",
        "\n",
        "    def insert_ordered(self, new_value):\n",
        "        if new_value < self.value:\n",
        "            if self.left is None:\n",
        "                self.add_left(new_value)\n",
        "            else:\n",
        "                self.left.insert_ordered(new_value)\n",
        "        else:\n",
        "            if self.right is None:\n",
        "                self.add_right(new_value)\n",
        "            else:\n",
        "                self.right.insert_ordered(new_value)\n",
        "        return self\n",
        "\n",
        "    def ird(self):\n",
        "        if self.value==None:\n",
        "            return []\n",
        "        s1 = self.left.ird() if self.left is not None else []\n",
        "        s2 = self.right.ird() if self.right is not None else []\n",
        "        return s1+[self.value]+s2\n",
        "\n",
        "    def to_indented_string(self, level, prefix=\"\"):\n",
        "        s = (\" \"*2*level + prefix + str(self.value) + \"\\n\") if self.value is not None else \"\"\n",
        "        s += self.left.to_indented_string(level+1, prefix=\"L: \") if self.left is not None else \"\"\n",
        "        s += self.right.to_indented_string(level+1, prefix=\"R: \") if self.right is not None else \"\"\n",
        "        return s\n",
        "\n",
        "    def __repr__(self):\n",
        "        return self.to_indented_string(0)\n",
        "\n",
        "    @classmethod\n",
        "    def from_list(cls, a_list):\n",
        "        r = cls(a_list[0])\n",
        "        for i in a_list[1:]:\n",
        "            r.insert_ordered(i)\n",
        "        return r\n",
        "\n",
        "    @classmethod\n",
        "    def sort_list(cls, a_list):\n",
        "        r = cls.from_list(a_list)\n",
        "        return np.r_[r.ird()]"
      ],
      "metadata": {
        "id": "d2Fc7dT1YAsX"
      },
      "execution_count": null,
      "outputs": []
    },
    {
      "cell_type": "code",
      "source": [
        "# -------------- Laboratorio 6 ARBOLES ------------------------ #"
      ],
      "metadata": {
        "id": "JPibCfp9h1pv"
      },
      "execution_count": null,
      "outputs": []
    },
    {
      "cell_type": "code",
      "source": [
        "# 1) implementar metodo shift_down\n",
        "\n",
        "def VBinTree1(v=None, **kwargs):\n",
        "\n",
        "    import numpy as np\n",
        "\n",
        "    class VBinTree(object):\n",
        "\n",
        "        def __init__(self, v=v,**kwargs):\n",
        "            import numpy as np\n",
        "            self.v = np.r_[[i for i in v]] # copy\n",
        "\n",
        "        def get_height(self):\n",
        "            i,c=0,0\n",
        "            while c<len(self.v):\n",
        "                c += 2**i\n",
        "                i += 1\n",
        "            return i-1\n",
        "\n",
        "        def get_level(self, i):\n",
        "            n = 0\n",
        "            while sum([2**j for j in range(n)])<=i:\n",
        "                n+=1\n",
        "            return n-1\n",
        "\n",
        "        def get_children_positions(self, i):\n",
        "            return (2*i+1 if 2*i+1<len(self.v) else None,\\\n",
        "                    2*i+2 if 2*i+2<len(self.v) else None)\n",
        "\n",
        "        def get_parent_position(self, i):\n",
        "            assert type(i)==int and i>=0\n",
        "            return (i-1)/2 if i!=0 else None\n",
        "\n",
        "        def get_sibling_position(self, i):\n",
        "            if i==0:\n",
        "                return None\n",
        "            return [k for k in self.get_children_positions(self.get_parent_position(i)) if k!=i][0]\n",
        "\n",
        "\n",
        "        def to_indented_string(self, i, level):\n",
        "            c = self.get_children_positions(i)\n",
        "            s = (\" \"*2*level + str(self.v[i]) + \"\\n\") if self.v[i] is not None else \"\"\n",
        "            s += self.to_indented_string(c[0],level+1) if c[0] is not None else \"\"\n",
        "            s += self.to_indented_string(c[1],level+1) if c[1] is not None else \"\"\n",
        "            return s\n",
        "\n",
        "        def __repr__(self):\n",
        "            return self.to_indented_string(0,0)\n",
        "\n",
        "\n",
        "    class VBinTree1_class(VBinTree):\n",
        "\n",
        "        def shift_down(self, start, end=None):\n",
        "\n",
        "\n",
        "          if end is None:\n",
        "            end = len(self.v) - 1 # Verificamos que no sea un arbol vacio\n",
        " # ----------- pseudocodigo ------------ #\n",
        "          pos_nodo = start\n",
        "\n",
        "          while pos_nodo * 2 + 1 <= end:  # Mientras el nodo tenga hijos y no se pase de la posición end\n",
        "                hijos = self.get_children_positions(pos_nodo)\n",
        "                hijo_izquierdo = hijos[0]\n",
        "                hijo_derecho = hijos[1]\n",
        "                mayor_hijo = None\n",
        "\n",
        "                if hijo_izquierdo is not None:\n",
        "                    mayor_hijo = hijo_izquierdo\n",
        "\n",
        "                if hijo_derecho is not None and self.v[hijo_derecho] > self.v[hijo_izquierdo]:\n",
        "                    # Si el hijo derecho existe y es mayor que el hijo izquierdo\n",
        "                    mayor_hijo = hijo_derecho\n",
        "\n",
        "                if mayor_hijo is not None and self.v[mayor_hijo] > self.v[pos_nodo]:\n",
        "                    # Si hay un hijo mayor y es mayor que el nodo actual, se intercambian\n",
        "                    self.v[pos_nodo], self.v[mayor_hijo] = self.v[mayor_hijo], self.v[pos_nodo]\n",
        "                    pos_nodo = mayor_hijo\n",
        "                else:\n",
        "                    break\n",
        "\n",
        "          return self\n",
        "\n",
        "\n",
        "    return VBinTree1_class(**kwargs)"
      ],
      "metadata": {
        "id": "bVjLxkhAh2Ar"
      },
      "execution_count": null,
      "outputs": []
    },
    {
      "cell_type": "code",
      "source": [
        "v = [5,9,4,1,6,2,8,3]\n",
        "print (VBinTree1(v))\n",
        "print (VBinTree1(v).shift_down(0))\n",
        "print (VBinTree1(v).shift_down(1))\n",
        "print (VBinTree1(v).shift_down(3))"
      ],
      "metadata": {
        "colab": {
          "base_uri": "https://localhost:8080/"
        },
        "id": "Kjt5nCEp4q0r",
        "outputId": "1c74716f-e747-474d-ae61-834f7b80c35f"
      },
      "execution_count": null,
      "outputs": [
        {
          "output_type": "stream",
          "name": "stdout",
          "text": [
            "5\n",
            "  9\n",
            "    1\n",
            "      3\n",
            "    6\n",
            "  4\n",
            "    2\n",
            "    8\n",
            "\n",
            "9\n",
            "  6\n",
            "    1\n",
            "      3\n",
            "    5\n",
            "  4\n",
            "    2\n",
            "    8\n",
            "\n",
            "5\n",
            "  9\n",
            "    1\n",
            "      3\n",
            "    6\n",
            "  4\n",
            "    2\n",
            "    8\n",
            "\n",
            "5\n",
            "  9\n",
            "    3\n",
            "      1\n",
            "    6\n",
            "  4\n",
            "    2\n",
            "    8\n",
            "\n"
          ]
        }
      ]
    },
    {
      "cell_type": "code",
      "source": [
        "v = [5,9,4,1,6,2,8,3]\n",
        "b = VBinTree1(v)\n",
        "print(b)\n",
        "i=3\n",
        "print(\"shifting down element\",i,\"whose value is\", b.v[i])\n",
        "b.shift_down(i)\n",
        "print(b)"
      ],
      "metadata": {
        "id": "fi-uoCedlBjp",
        "colab": {
          "base_uri": "https://localhost:8080/"
        },
        "outputId": "3bdfb9a5-a76c-47dd-e051-303fd30285cc"
      },
      "execution_count": null,
      "outputs": [
        {
          "output_type": "stream",
          "name": "stdout",
          "text": [
            "5\n",
            "  9\n",
            "    1\n",
            "      3\n",
            "    6\n",
            "  4\n",
            "    2\n",
            "    8\n",
            "\n",
            "shifting down element 3 whose value is 1\n",
            "5\n",
            "  9\n",
            "    3\n",
            "      1\n",
            "    6\n",
            "  4\n",
            "    2\n",
            "    8\n",
            "\n"
          ]
        }
      ]
    },
    {
      "cell_type": "code",
      "source": [
        "# 2) implementar metodo get_last_parent_position(self):\n",
        "\n",
        "def VBinTree2(v=None,**kwargs):\n",
        "    import numpy as np\n",
        "\n",
        "    class VBinTree(object):\n",
        "\n",
        "        def __init__(self, v=v,**kwargs):\n",
        "            import numpy as np\n",
        "            self.v = np.r_[[i for i in v]] # copy\n",
        "\n",
        "        def get_height(self):\n",
        "            i,c=0,0\n",
        "            while c<len(self.v):\n",
        "                c += 2**i\n",
        "                i += 1\n",
        "            return i-1\n",
        "\n",
        "        def get_level(self, i):\n",
        "            n = 0\n",
        "            while sum([2**j for j in range(n)])<=i:\n",
        "                n+=1\n",
        "            return n-1\n",
        "\n",
        "        def get_children_positions(self, i):\n",
        "            return (2*i+1 if 2*i+1<len(self.v) else None,\\\n",
        "                    2*i+2 if 2*i+2<len(self.v) else None)\n",
        "\n",
        "        def get_parent_position(self, i):\n",
        "            assert type(i)==int and i>=0\n",
        "            return (i-1)/2 if i!=0 else None\n",
        "\n",
        "        def get_sibling_position(self, i):\n",
        "            if i==0:\n",
        "                return None\n",
        "            return [k for k in self.get_children_positions(self.get_parent_position(i)) if k!=i][0]\n",
        "\n",
        "\n",
        "        def to_indented_string(self, i, level):\n",
        "            c = self.get_children_positions(i)\n",
        "            s = (\" \"*2*level + str(self.v[i]) + \"\\n\") if self.v[i] is not None else \"\"\n",
        "            s += self.to_indented_string(c[0],level+1) if c[0] is not None else \"\"\n",
        "            s += self.to_indented_string(c[1],level+1) if c[1] is not None else \"\"\n",
        "            return s\n",
        "\n",
        "        def __repr__(self):\n",
        "            return self.to_indented_string(0,0)\n",
        "\n",
        "    class VBinTree2_class(VBinTree):\n",
        "\n",
        "        def get_last_parent_position(self):\n",
        "            pos_nodo = len(self.v) - 1  # Comenzar desde la posición del último nodo en el vector\n",
        "\n",
        "            while pos_nodo >= 0:\n",
        "                hijos = self.get_children_positions(pos_nodo)\n",
        "                if hijos[0] is not None or hijos[1] is not None:\n",
        "                    # Si el nodo tiene al menos un hijo, es el último padre en el árbol\n",
        "                    return pos_nodo\n",
        "                pos_nodo -= 1\n",
        "\n",
        "            return None\n",
        "\n",
        "\n",
        "\n",
        "    return VBinTree2_class(**kwargs)"
      ],
      "metadata": {
        "id": "mJL8u_ZAm9b4"
      },
      "execution_count": null,
      "outputs": []
    },
    {
      "cell_type": "code",
      "source": [
        "for v in [[5,9,0,1,6,2,8,3,4,5], [5,9,0,1,6,2,8]]:\n",
        "    b = VBinTree2(v)\n",
        "    print(\"\\n\\ntree:\")\n",
        "    print(b)\n",
        "    p = b.get_last_parent_position()\n",
        "    print(\"last parent position\",p, \"content\", b.v[p])"
      ],
      "metadata": {
        "id": "nmK_XUfv5O0O",
        "colab": {
          "base_uri": "https://localhost:8080/"
        },
        "outputId": "f14c4ba2-8716-4bf6-848e-b3f663cf3148"
      },
      "execution_count": null,
      "outputs": [
        {
          "output_type": "stream",
          "name": "stdout",
          "text": [
            "\n",
            "\n",
            "tree:\n",
            "5\n",
            "  9\n",
            "    1\n",
            "      3\n",
            "      4\n",
            "    6\n",
            "      5\n",
            "  0\n",
            "    2\n",
            "    8\n",
            "\n",
            "last parent position 4 content 6\n",
            "\n",
            "\n",
            "tree:\n",
            "5\n",
            "  9\n",
            "    1\n",
            "    6\n",
            "  0\n",
            "    2\n",
            "    8\n",
            "\n",
            "last parent position 2 content 0\n"
          ]
        }
      ]
    },
    {
      "cell_type": "code",
      "source": [
        "#-----------------------#"
      ],
      "metadata": {
        "id": "YvKemkdb5yXv"
      },
      "execution_count": null,
      "outputs": []
    },
    {
      "cell_type": "code",
      "source": [
        "# 3) Completar metodo make_heap\n",
        "\n",
        "def VBinTree3(v=None,**kwargs):\n",
        "\n",
        "    import numpy as np\n",
        "\n",
        "    class VBinTree(object):\n",
        "\n",
        "        def __init__(self, v=v,**kwargs):\n",
        "            import numpy as np\n",
        "            self.v = np.r_[[i for i in v]] # copy\n",
        "\n",
        "        def get_height(self):\n",
        "            i,c=0,0\n",
        "            while c<len(self.v):\n",
        "                c += 2**i\n",
        "                i += 1\n",
        "            return i-1\n",
        "\n",
        "        def get_level(self, i):\n",
        "            n = 0\n",
        "            while sum([2**j for j in range(n)])<=i:\n",
        "                n+=1\n",
        "            return n-1\n",
        "\n",
        "        def get_children_positions(self, i):\n",
        "            return (2*i+1 if 2*i+1<len(self.v) else None,\\\n",
        "                    2*i+2 if 2*i+2<len(self.v) else None)\n",
        "\n",
        "        def get_parent_position(self, i):\n",
        "            assert type(i)==int and i>=0\n",
        "            return (i-1)/2 if i!=0 else None\n",
        "\n",
        "        def get_sibling_position(self, i):\n",
        "            if i==0:\n",
        "                return None\n",
        "            return [k for k in self.get_children_positions(self.get_parent_position(i)) if k!=i][0]\n",
        "\n",
        "\n",
        "        def to_indented_string(self, i, level):\n",
        "            c = self.get_children_positions(i)\n",
        "            s = (\" \"*2*level + str(self.v[i]) + \"\\n\") if self.v[i] is not None else \"\"\n",
        "            s += self.to_indented_string(c[0],level+1) if c[0] is not None else \"\"\n",
        "            s += self.to_indented_string(c[1],level+1) if c[1] is not None else \"\"\n",
        "            return s\n",
        "\n",
        "        def __repr__(self):\n",
        "            return self.to_indented_string(0,0)\n",
        "\n",
        "    class VBinTree3_class(VBinTree):\n",
        "\n",
        "        def shift_down(self, start, end=None):\n",
        "\n",
        "\n",
        "          if end is None:\n",
        "            end = len(self.v) - 1 # Verificamos que no sea un arbol vacio\n",
        "\n",
        "          pos_nodo = start\n",
        "\n",
        "          while pos_nodo * 2 + 1 <= end:  # Mientras el nodo tenga hijos y no se pase de la posición end\n",
        "                hijos = self.get_children_positions(pos_nodo)\n",
        "                hijo_izquierdo = hijos[0]\n",
        "                hijo_derecho = hijos[1]\n",
        "                mayor_hijo = None\n",
        "\n",
        "                if hijo_izquierdo is not None:\n",
        "                    mayor_hijo = hijo_izquierdo\n",
        "\n",
        "                if hijo_derecho is not None and self.v[hijo_derecho] > self.v[hijo_izquierdo]:\n",
        "                    # Si el hijo derecho existe y es mayor que el hijo izquierdo\n",
        "                    mayor_hijo = hijo_derecho\n",
        "\n",
        "                if mayor_hijo is not None and self.v[mayor_hijo] > self.v[pos_nodo]:\n",
        "                    # Si hay un hijo mayor y es mayor que el nodo actual, se intercambian\n",
        "                    self.v[pos_nodo], self.v[mayor_hijo] = self.v[mayor_hijo], self.v[pos_nodo]\n",
        "                    pos_nodo = mayor_hijo\n",
        "                else:\n",
        "                    break\n",
        "\n",
        "          return self\n",
        "\n",
        "        def get_last_parent_position(self):\n",
        "            pos_nodo = len(self.v) - 1  # Comenzar desde la posición del último nodo en el vector\n",
        "\n",
        "            while pos_nodo >= 0:\n",
        "                hijos = self.get_children_positions(pos_nodo)\n",
        "                if hijos[0] is not None or hijos[1] is not None:\n",
        "                    # Si el nodo tiene al menos un hijo, es el último padre en el árbol\n",
        "                    return pos_nodo\n",
        "                pos_nodo -= 1\n",
        "\n",
        "            return None\n",
        "\n",
        "        def make_heap(self):\n",
        "\n",
        "            last_parent = self.get_last_parent_position() # obtenemos la posicion del último padre\n",
        "\n",
        "            if last_parent is not None: # verificar que exista al menos 1\n",
        "             while last_parent >= 0: # iterar desde el último padre hasta el primer nodo del árbol\n",
        "                self.shift_down(last_parent)\n",
        "                last_parent -= 1\n",
        "\n",
        "\n",
        "\n",
        "\n",
        "    return VBinTree3_class(**kwargs)"
      ],
      "metadata": {
        "id": "v_P_xpLE5vzk"
      },
      "execution_count": null,
      "outputs": []
    },
    {
      "cell_type": "code",
      "source": [
        "import numpy as np\n",
        "v = list(np.random.permutation(100)[:10])\n",
        "v = [2,48,65,95,66,42,30,32]\n",
        "b = VBinTree3(v)\n",
        "print(\"-- original tree\")\n",
        "print(b)\n",
        "print(\"-- constructed heap\")\n",
        "b.make_heap()\n",
        "print()\n",
        "print(b)"
      ],
      "metadata": {
        "colab": {
          "base_uri": "https://localhost:8080/"
        },
        "id": "35mVd7WR7Q4v",
        "outputId": "d5cc57bb-4c87-4cdf-f4c2-e7eeca1e7c13"
      },
      "execution_count": null,
      "outputs": [
        {
          "output_type": "stream",
          "name": "stdout",
          "text": [
            "-- original tree\n",
            "2\n",
            "  48\n",
            "    95\n",
            "      32\n",
            "    66\n",
            "  65\n",
            "    42\n",
            "    30\n",
            "\n",
            "-- constructed heap\n",
            "\n",
            "95\n",
            "  66\n",
            "    48\n",
            "      32\n",
            "    2\n",
            "  65\n",
            "    42\n",
            "    30\n",
            "\n"
          ]
        }
      ]
    },
    {
      "cell_type": "code",
      "source": [
        "#-----------------------------#"
      ],
      "metadata": {
        "id": "vhWomNLmCtFk"
      },
      "execution_count": null,
      "outputs": []
    },
    {
      "cell_type": "code",
      "source": [
        "#\n",
        "# 4) implementar método sort que nos organiza el arbol de manera ascendente\n",
        "def VBinTree4(v=None,**kwargs):\n",
        "\n",
        "    class VBinTree(object):\n",
        "\n",
        "        def __init__(self, v=v,**kwargs):\n",
        "            import numpy as np\n",
        "            self.v = np.r_[[i for i in v]] # copy\n",
        "\n",
        "        def get_height(self):\n",
        "            i,c=0,0\n",
        "            while c<len(self.v):\n",
        "                c += 2**i\n",
        "                i += 1\n",
        "            return i-1\n",
        "\n",
        "        def get_level(self, i):\n",
        "            n = 0\n",
        "            while sum([2**j for j in range(n)])<=i:\n",
        "                n+=1\n",
        "            return n-1\n",
        "\n",
        "        def get_children_positions(self, i):\n",
        "            return (2*i+1 if 2*i+1<len(self.v) else None,\\\n",
        "                    2*i+2 if 2*i+2<len(self.v) else None)\n",
        "\n",
        "        def get_parent_position(self, i):\n",
        "            assert type(i)==int and i>=0\n",
        "            return (i-1)/2 if i!=0 else None\n",
        "\n",
        "        def get_sibling_position(self, i):\n",
        "            if i==0:\n",
        "                return None\n",
        "            return [k for k in self.get_children_positions(self.get_parent_position(i)) if k!=i][0]\n",
        "\n",
        "\n",
        "        def to_indented_string(self, i, level):\n",
        "            c = self.get_children_positions(i)\n",
        "            s = (\" \"*2*level + str(self.v[i]) + \"\\n\") if self.v[i] is not None else \"\"\n",
        "            s += self.to_indented_string(c[0],level+1) if c[0] is not None else \"\"\n",
        "            s += self.to_indented_string(c[1],level+1) if c[1] is not None else \"\"\n",
        "            return s\n",
        "\n",
        "        def __repr__(self):\n",
        "            return self.to_indented_string(0,0)\n",
        "\n",
        "\n",
        "    class VBinTree4_class(VBinTree):\n",
        "\n",
        "        def shift_down(self, start, end=None):\n",
        "          if end is None:\n",
        "            end = len(self.v) - 1\n",
        "\n",
        "          pos_nodo = start\n",
        "\n",
        "          while pos_nodo * 2 + 1 <= end:  # Mientras el nodo tenga hijos y no se pase de la posición end\n",
        "            hijo_izquierdo = pos_nodo * 2 + 1\n",
        "            hijo_derecho = pos_nodo * 2 + 2\n",
        "            mayor_hijo = None\n",
        "\n",
        "            if hijo_izquierdo <= end:\n",
        "                mayor_hijo = hijo_izquierdo\n",
        "\n",
        "            if hijo_derecho <= end and self.v[hijo_derecho] > self.v[hijo_izquierdo]:\n",
        "                # Si el hijo derecho existe y es mayor que el hijo izquierdo\n",
        "                mayor_hijo = hijo_derecho\n",
        "\n",
        "            if mayor_hijo is not None and self.v[mayor_hijo] > self.v[pos_nodo]:\n",
        "                # Si hay un hijo mayor y es mayor que el nodo actual, se intercambian\n",
        "                self.v[pos_nodo], self.v[mayor_hijo] = self.v[mayor_hijo], self.v[pos_nodo]\n",
        "                pos_nodo = mayor_hijo\n",
        "            else:\n",
        "                break\n",
        "\n",
        "          return self\n",
        "\n",
        "        def get_last_parent_position(self):\n",
        "          pos_nodo = len(self.v) - 1\n",
        "\n",
        "          while pos_nodo >= 0:\n",
        "              hijo_izquierdo = pos_nodo * 2 + 1\n",
        "              hijo_derecho = pos_nodo * 2 + 2\n",
        "\n",
        "              if hijo_derecho < len(self.v) or hijo_izquierdo < len(self.v):\n",
        "                  # Si el nodo tiene al menos un hijo, se considera padre\n",
        "                  break\n",
        "\n",
        "              pos_nodo -= 1\n",
        "\n",
        "          return pos_nodo\n",
        "\n",
        "        def make_heap(self):\n",
        "            last_parent = self.get_last_parent_position() # obtenemos la posicion del último padre\n",
        "\n",
        "            if last_parent is not None: # verificar que exista al menos 1\n",
        "             while last_parent >= 0: # iterar desde el último padre hasta el primer nodo del árbol\n",
        "                self.shift_down(last_parent)\n",
        "                last_parent -= 1\n",
        "\n",
        "            return self\n",
        "\n",
        "        def sort(self):\n",
        "            self.make_heap() # paso 1 construir\n",
        "            last_node = len(self.v) - 1 # último nodo del arbol\n",
        "\n",
        "            while last_node > 0:\n",
        "                # Paso 2: Intercambiar valor de la raíz con nodo\n",
        "                self.v[0], self.v[last_node] = self.v[last_node], self.v[0]\n",
        "\n",
        "                # Paso 2: Shift_down de la raíz hasta nodo-1\n",
        "                self.shift_down(0, last_node - 1)\n",
        "\n",
        "                last_node -= 1 # paso 3 reducir para pasar al siguiente nodo\n",
        "\n",
        "            return self # devuelve el arbol\n",
        "\n",
        "    return VBinTree4_class(**kwargs)"
      ],
      "metadata": {
        "id": "CoFUCsNqCugr"
      },
      "execution_count": null,
      "outputs": []
    },
    {
      "cell_type": "code",
      "source": [
        "import numpy as np\n",
        "\n",
        "v = list(np.random.permutation(100)[:15])\n",
        "v = [57,58,73,48,62,75,88,15,29,40,53,61,56,8,1,32,51]\n",
        "b = VBinTree4(v)\n",
        "print(\"-- original tree\")\n",
        "print(b.v)\n",
        "\n",
        "b.sort()\n",
        "print(\"-- sorted tree\")\n",
        "print(b.v)"
      ],
      "metadata": {
        "colab": {
          "base_uri": "https://localhost:8080/"
        },
        "id": "3UTNy953F79o",
        "outputId": "fdafd63a-394f-4edf-95bf-800124477be0"
      },
      "execution_count": null,
      "outputs": [
        {
          "output_type": "stream",
          "name": "stdout",
          "text": [
            "-- original tree\n",
            "[57 58 73 48 62 75 88 15 29 40 53 61 56  8  1 32 51]\n",
            "-- sorted tree\n",
            "[ 1  8 15 29 32 40 48 51 53 56 57 58 61 62 73 75 88]\n"
          ]
        }
      ]
    },
    {
      "cell_type": "code",
      "source": [
        "import numpy as np\n",
        "\n",
        "r=[]\n",
        "n=1000\n",
        "lengths = []\n",
        "for i in range(n):\n",
        "    v = list(np.random.permutation(1000)[:np.random.randint(300)])\n",
        "    b = VBinTree4(v)\n",
        "    b.sort()\n",
        "    lengths.append(len(v))\n",
        "\n",
        "    a=np.r_[b.v]\n",
        "    r.append(np.alltrue(a[1:]-a[:-1]>0))"
      ],
      "metadata": {
        "id": "RZYsPtaFGSBl"
      },
      "execution_count": null,
      "outputs": []
    },
    {
      "cell_type": "code",
      "source": [
        "print(\"número total de vectores generados:\", n)\n",
        "print(\"número total de vectores ordenados:\", np.sum(r))\n",
        "print(\"avg/std longitud de los vectores:  \", np.mean(lengths), \"+/- %.1f\"%np.std(lengths))"
      ],
      "metadata": {
        "id": "DuU4J_hcGflj",
        "outputId": "4426f4fd-35b7-4e15-bfa5-58e71ae7c7c3",
        "colab": {
          "base_uri": "https://localhost:8080/"
        }
      },
      "execution_count": null,
      "outputs": [
        {
          "output_type": "stream",
          "name": "stdout",
          "text": [
            "número total de vectores generados: 1000\n",
            "número total de vectores ordenados: 1000\n",
            "avg/std longitud de los vectores:   150.933 +/- 85.3\n"
          ]
        }
      ]
    }
  ]
}