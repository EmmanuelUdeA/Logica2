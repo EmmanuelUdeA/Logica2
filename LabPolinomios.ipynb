{
  "nbformat": 4,
  "nbformat_minor": 0,
  "metadata": {
    "colab": {
      "provenance": [],
      "authorship_tag": "ABX9TyNshmrrJ/iTUxMcKwUA5Mma",
      "include_colab_link": true
    },
    "kernelspec": {
      "name": "python3",
      "display_name": "Python 3"
    },
    "language_info": {
      "name": "python"
    }
  },
  "cells": [
    {
      "cell_type": "markdown",
      "metadata": {
        "id": "view-in-github",
        "colab_type": "text"
      },
      "source": [
        "<a href=\"https://colab.research.google.com/github/EmmanuelUdeA/Logica2/blob/main/LabPolinomios.ipynb\" target=\"_parent\"><img src=\"https://colab.research.google.com/assets/colab-badge.svg\" alt=\"Open In Colab\"/></a>"
      ]
    },
    {
      "cell_type": "code",
      "execution_count": null,
      "metadata": {
        "colab": {
          "base_uri": "https://localhost:8080/"
        },
        "id": "wY-NsdLF_cK0",
        "outputId": "b390ea43-bf84-418f-e14a-dbf890151dff"
      },
      "outputs": [
        {
          "output_type": "stream",
          "name": "stdout",
          "text": [
            "Laboratorio 2 DE LA MATERIA LOGICA 2. POLINOMIOS\n"
          ]
        }
      ],
      "source": [
        "print(\"Laboratorio 2 DE LA MATERIA LOGICA 2. POLINOMIOS\")\n",
        "\n",
        "# LABORATORIO REALIZADO POR EMMANUEL BUSTAMANTE VALBUENA - 2023-1 - UDEA\n"
      ]
    },
    {
      "cell_type": "code",
      "source": [
        "from IPython.display import Math\n",
        "import numpy as np\n",
        "import numbers\n"
      ],
      "metadata": {
        "id": "Flm4ASESMn2B"
      },
      "execution_count": null,
      "outputs": []
    },
    {
      "cell_type": "code",
      "source": [
        "#LABORATORIO 2 POLINOMIOS\n",
        "\n",
        "#1.\n",
        "\n",
        "def Pol1(**kwargs):\n",
        "    import numpy as np\n",
        "\n",
        "    class Pol1__class:\n",
        "\n",
        "        def __init__(self):\n",
        "            self.exps = []\n",
        "            self.coefs = []\n",
        "\n",
        "        def len(self):\n",
        "            return len(self.exps)\n",
        "\n",
        "        def add_term(self, c, e):\n",
        "\n",
        "          k = np.searchsorted(self.exps, e)\n",
        "                #Tuve que ponerlo >= de lo contrario me salia un error\n",
        "          if k >= len(self.exps):\n",
        "                #  agregar termino al final\n",
        "                self.coefs.append(c)\n",
        "                self.exps.append(e)\n",
        "          elif self.exps[k] == e:\n",
        "                # Add el coeficiente en el termino correcto\n",
        "                self.coefs[k] += c\n",
        "          else:\n",
        "                # Insertar en la posicion k\n",
        "                self.coefs.insert(k, c)\n",
        "                self.exps.insert(k, e)\n",
        "          assert len(self.exps)==len(self.coefs), \"must have the same number of exps and coefs\"\n",
        "          return self\n",
        "\n",
        "        def show(self):\n",
        "            from IPython.display import Math, HTML, display\n",
        "            display(HTML(\"<script src='https://cdnjs.cloudflare.com/ajax/libs/mathjax/2.7.3/latest.js?config=default'></script>\"))\n",
        "            s = \"+\".join([\"%s^{%s}\"%(str(c) if e==0 else str(c)+\"x\" if c!=1 else \"x\", str(e) if e not in [0,1] else \"\") for e,c in zip(self.exps, self.coefs) if c!=0])\n",
        "            s = s.replace(\"+-\", \"-\")\n",
        "            return Math(s)\n",
        "\n",
        "    return Pol1__class(**kwargs)\n",
        "\n",
        "p = Pol1()\n",
        "p.add_term(3,2).add_term(2,1).add_term(2,0).add_term(4,5).add_term(6,2).add_term(-3,0).show()\n",
        "\n",
        "\n"
      ],
      "metadata": {
        "id": "lJ-xIu5FztWt",
        "colab": {
          "base_uri": "https://localhost:8080/",
          "height": 38
        },
        "outputId": "86edf764-66e0-4d92-bff1-bdecd5eefc50"
      },
      "execution_count": null,
      "outputs": [
        {
          "output_type": "display_data",
          "data": {
            "text/plain": [
              "<IPython.core.display.HTML object>"
            ],
            "text/html": [
              "<script src='https://cdnjs.cloudflare.com/ajax/libs/mathjax/2.7.3/latest.js?config=default'></script>"
            ]
          },
          "metadata": {}
        },
        {
          "output_type": "execute_result",
          "data": {
            "text/plain": [
              "<IPython.core.display.Math object>"
            ],
            "text/latex": "$\\displaystyle -1^{}+2x^{}+9x^{2}+4x^{5}$"
          },
          "metadata": {},
          "execution_count": 3
        }
      ]
    },
    {
      "cell_type": "code",
      "source": [
        "# 2 OPERACION SUMA ENTRE POLINOMIOS\n",
        "\n",
        "def Pol2(**kwargs):\n",
        "    import numpy as np\n",
        "    class Pol2__class:\n",
        "\n",
        "        def __init__(self):\n",
        "            self.exps = []\n",
        "            self.coefs = []\n",
        "\n",
        "        def len(self):\n",
        "            return len(self.exps)\n",
        "\n",
        "        def add_term(self, c, e):\n",
        "          k = np.searchsorted(self.exps, e)\n",
        "\n",
        "          if k >= len(self.exps):\n",
        "            #  agregar termino al final\n",
        "                self.coefs.append(c)\n",
        "                self.exps.append(e)\n",
        "          elif self.exps[k] == e:\n",
        "                # Add el coeficiente en el termino correcto\n",
        "                self.coefs[k] += c\n",
        "          else:\n",
        "                # Insertar en la posicion k\n",
        "                self.coefs.insert(k, c)\n",
        "                self.exps.insert(k, e)\n",
        "          assert len(self.exps)==len(self.coefs), \"must have the same number of exps and coefs\"\n",
        "\n",
        "          return self\n",
        "\n",
        "        def sum(self, q):\n",
        "            r = self.__class__()\n",
        "            for c,c2,e,e2 in zip(self.coefs, q.coefs, self.exps, q.exps):\n",
        "              if(e==e2):\n",
        "                r.add_term(c+c2,e)\n",
        "              elif(e<e2):\n",
        "                  r.add_term(c, e)\n",
        "                  r.add_term(c2, e2)\n",
        "              else:\n",
        "                  r.add_term(c2, e2)\n",
        "                  r.add_term(c, e)\n",
        "            return r\n",
        "\n",
        "        def show(self):\n",
        "            from IPython.display import Math, HTML, display\n",
        "            display(HTML(\"<script src='https://cdnjs.cloudflare.com/ajax/libs/mathjax/2.7.3/latest.js?config=default'></script>\"))\n",
        "            s = \"+\".join([\"%s^{%s}\"%(str(c) if e==0 else str(c)+\"x\" if c!=1 else \"x\", str(e) if e not in [0,1] else \"\") for e,c in zip(self.exps, self.coefs) if c!=0])\n",
        "            s = s.replace(\"+-\", \"-\")\n",
        "            return Math(s)\n",
        "\n",
        "    return Pol2__class(**kwargs)\n",
        "\n",
        "p = Pol2()\n",
        "p.add_term(3,2).add_term(2,1).add_term(4,5).add_term(6,2)\n",
        "p.show()\n",
        "q = Pol2()\n",
        "q.add_term(1,5).add_term(4,1).add_term(3,3)\n",
        "q.show()\n",
        "p.sum(q).show()"
      ],
      "metadata": {
        "id": "J7DguWw-J7V1",
        "colab": {
          "base_uri": "https://localhost:8080/",
          "height": 38
        },
        "outputId": "41499ab2-5cc5-49c4-893c-629f362a9834"
      },
      "execution_count": null,
      "outputs": [
        {
          "output_type": "display_data",
          "data": {
            "text/plain": [
              "<IPython.core.display.HTML object>"
            ],
            "text/html": [
              "<script src='https://cdnjs.cloudflare.com/ajax/libs/mathjax/2.7.3/latest.js?config=default'></script>"
            ]
          },
          "metadata": {}
        },
        {
          "output_type": "display_data",
          "data": {
            "text/plain": [
              "<IPython.core.display.HTML object>"
            ],
            "text/html": [
              "<script src='https://cdnjs.cloudflare.com/ajax/libs/mathjax/2.7.3/latest.js?config=default'></script>"
            ]
          },
          "metadata": {}
        },
        {
          "output_type": "display_data",
          "data": {
            "text/plain": [
              "<IPython.core.display.HTML object>"
            ],
            "text/html": [
              "<script src='https://cdnjs.cloudflare.com/ajax/libs/mathjax/2.7.3/latest.js?config=default'></script>"
            ]
          },
          "metadata": {}
        },
        {
          "output_type": "execute_result",
          "data": {
            "text/plain": [
              "<IPython.core.display.Math object>"
            ],
            "text/latex": "$\\displaystyle 6x^{}+9x^{2}+3x^{3}+5x^{5}$"
          },
          "metadata": {},
          "execution_count": 4
        }
      ]
    },
    {
      "cell_type": "code",
      "source": [],
      "metadata": {
        "id": "A5RUqcPkMsy4"
      },
      "execution_count": null,
      "outputs": []
    },
    {
      "cell_type": "code",
      "source": [
        "# 3 LISTA DE COEFICIENTES\n",
        "\n",
        "def Pol3(**kwargs):\n",
        "    import numpy as np\n",
        "\n",
        "    class Pol3__class:\n",
        "\n",
        "        def __init__(self):\n",
        "            self.coefs = [0]\n",
        "\n",
        "        def add_term(self, c, e):\n",
        "            max_exp = len(self.coefs)-1\n",
        "            if e > max_exp:\n",
        "            # Añadir ceros a la lista para que tenga la longitud correcta\n",
        "              self.coefs += [0] * (e - max_exp)\n",
        "            #Añadir c al elemento correspondiente de la lista\n",
        "\n",
        "            self.coefs[e] += c\n",
        "\n",
        "            return self\n",
        "\n",
        "        def show(self):\n",
        "            from IPython.display import Math, HTML, display\n",
        "            display(HTML(\"<script src='https://cdnjs.cloudflare.com/ajax/libs/mathjax/2.7.3/latest.js?config=default'></script>\"))\n",
        "            s = \"+\".join([\"%s^{%s}\"%(str(c) if e==0 else str(c)+\"x\" if c!=1 else \"x\", str(e) if e not in [0,1] else \"\") for e,c in enumerate(self.coefs) if c!=0])\n",
        "            s = s.replace(\"+-\", \"-\")\n",
        "            return Math(s)\n",
        "\n",
        "    return Pol3__class(**kwargs)\n",
        "\n",
        "p = Pol3()\n",
        "p.add_term(2,0).add_term(1,5).add_term(3,2).add_term(5,5)\n",
        "print(p.coefs)\n",
        "p.show()"
      ],
      "metadata": {
        "id": "AikjVyiYbAwA",
        "colab": {
          "base_uri": "https://localhost:8080/",
          "height": 56
        },
        "outputId": "22098f9d-9eaf-4ef6-e4c3-b49d34b249db"
      },
      "execution_count": null,
      "outputs": [
        {
          "output_type": "stream",
          "name": "stdout",
          "text": [
            "[2, 0, 3, 0, 0, 6]\n"
          ]
        },
        {
          "output_type": "display_data",
          "data": {
            "text/plain": [
              "<IPython.core.display.HTML object>"
            ],
            "text/html": [
              "<script src='https://cdnjs.cloudflare.com/ajax/libs/mathjax/2.7.3/latest.js?config=default'></script>"
            ]
          },
          "metadata": {}
        },
        {
          "output_type": "execute_result",
          "data": {
            "text/plain": [
              "<IPython.core.display.Math object>"
            ],
            "text/latex": "$\\displaystyle 2^{}+3x^{2}+6x^{5}$"
          },
          "metadata": {},
          "execution_count": 5
        }
      ]
    },
    {
      "cell_type": "code",
      "source": [
        "# 4 SUMAR 2 ARRAYS\n",
        "\n",
        "def add_lists(a,b):\n",
        "    # DETERMINAMOS LA LONGITUD MAXIMA\n",
        "    max_length = max(len(a), len(b))\n",
        "    # AGREGA 0 A LA LISTA PEQUEÑA. ACLARAR QUE 0 ES UNA CONSTANTE, EN CASO DE NO HACERLO SERA REFLECT\n",
        "    a = np.pad(a, (0, max_length - len(a)), mode='constant')\n",
        "    b = np.pad(b, (0, max_length - len(b)), mode='constant')\n",
        "    result = a + b\n",
        "    return result.tolist()\n",
        "\n",
        "print(add_lists([1,4,5], [2,2]))\n",
        "print(add_lists([1,4,5], [2,2,2]))\n",
        "print(add_lists([1,4,5], [2,2,2,2]))\n",
        "print(add_lists([1,4,5], [5,6,4,3,2,11] ))"
      ],
      "metadata": {
        "id": "all3FCdnVmsp",
        "colab": {
          "base_uri": "https://localhost:8080/"
        },
        "outputId": "bee5e8d0-4d5b-48e8-9ada-a840a7d9eceb"
      },
      "execution_count": null,
      "outputs": [
        {
          "output_type": "stream",
          "name": "stdout",
          "text": [
            "[3, 6, 5]\n",
            "[3, 6, 7]\n",
            "[3, 6, 7, 2]\n",
            "[6, 10, 9, 3, 2, 11]\n"
          ]
        }
      ]
    },
    {
      "cell_type": "code",
      "source": [
        "# 5  SUMA IMPLEMENTANDO ADD LIST\n",
        "\n",
        "def Pol5(**kwargs):\n",
        "    import numpy as np\n",
        "    def add_lists(a,b):\n",
        "        # DETERMINAMOS LA LONGITUD MAXIMA\n",
        "        max_length = max(len(a), len(b))\n",
        "        # AGREGA 0 A LA LISTA PEQUEÑA. ACLARAR QUE 0 ES UNA CONSTANTE, EN CASO DE NO HACERLO SERA REFLECT\n",
        "        a = np.pad(a, (0, max_length - len(a)), mode='constant')\n",
        "        b = np.pad(b, (0, max_length - len(b)), mode='constant')\n",
        "        result = a + b\n",
        "        return result.tolist()\n",
        "\n",
        "    class Pol5__class:\n",
        "\n",
        "        def __init__(self):\n",
        "            self.coefs = [0]\n",
        "\n",
        "\n",
        "        def add_term(self, c, e):\n",
        "            max_exp = len(self.coefs)-1\n",
        "            if e > max_exp:\n",
        "            # Añadir ceros a la lista para que tenga la longitud correcta\n",
        "              self.coefs += [0] * (e - max_exp)\n",
        "            #Añadir c al elemento correspondiente de la lista\n",
        "\n",
        "            self.coefs[e] += c\n",
        "\n",
        "            return self\n",
        "\n",
        "        def sum(self, q):\n",
        "            r = self.__class__()\n",
        "\n",
        "            # Compute the coefficients of the sum polynomial using add_lists()\n",
        "            r.coefs = add_lists(self.coefs, q.coefs)\n",
        "\n",
        "            # Return the result polynomial\n",
        "            return r\n",
        "\n",
        "        def show(self):\n",
        "            from IPython.display import Math, HTML, display\n",
        "            display(HTML(\"<script src='https://cdnjs.cloudflare.com/ajax/libs/mathjax/2.7.3/latest.js?config=default'></script>\"))\n",
        "            s = \"+\".join([\"%s^{%s}\"%(str(c) if e==0 else str(c)+\"x\" if c!=1 else \"x\", str(e) if e not in [0,1] else \"\") for e,c in enumerate(self.coefs) if c!=0])\n",
        "            s = s.replace(\"+-\", \"-\")\n",
        "            return Math(s)\n",
        "\n",
        "    return Pol5__class(**kwargs)\n",
        "\n",
        "p = Pol5()\n",
        "p.add_term(3,2).add_term(2,1).add_term(4,5).add_term(6,2)\n",
        "p.show()\n",
        "\n",
        "q = Pol5()\n",
        "q.add_term(1,5).add_term(4,1).add_term(3,8)\n",
        "q.show()\n",
        "\n",
        "s = p.sum(q)\n",
        "print(s.coefs)\n",
        "s.show()\n"
      ],
      "metadata": {
        "id": "Y7vhKWMmcrhO",
        "colab": {
          "base_uri": "https://localhost:8080/",
          "height": 56
        },
        "outputId": "0c4fb833-c13a-4903-d4e8-faaa5f984beb"
      },
      "execution_count": null,
      "outputs": [
        {
          "output_type": "display_data",
          "data": {
            "text/plain": [
              "<IPython.core.display.HTML object>"
            ],
            "text/html": [
              "<script src='https://cdnjs.cloudflare.com/ajax/libs/mathjax/2.7.3/latest.js?config=default'></script>"
            ]
          },
          "metadata": {}
        },
        {
          "output_type": "display_data",
          "data": {
            "text/plain": [
              "<IPython.core.display.HTML object>"
            ],
            "text/html": [
              "<script src='https://cdnjs.cloudflare.com/ajax/libs/mathjax/2.7.3/latest.js?config=default'></script>"
            ]
          },
          "metadata": {}
        },
        {
          "output_type": "stream",
          "name": "stdout",
          "text": [
            "[0, 6, 9, 0, 0, 5, 0, 0, 3]\n"
          ]
        },
        {
          "output_type": "display_data",
          "data": {
            "text/plain": [
              "<IPython.core.display.HTML object>"
            ],
            "text/html": [
              "<script src='https://cdnjs.cloudflare.com/ajax/libs/mathjax/2.7.3/latest.js?config=default'></script>"
            ]
          },
          "metadata": {}
        },
        {
          "output_type": "execute_result",
          "data": {
            "text/plain": [
              "<IPython.core.display.Math object>"
            ],
            "text/latex": "$\\displaystyle 6x^{}+9x^{2}+5x^{5}+3x^{8}$"
          },
          "metadata": {},
          "execution_count": 7
        }
      ]
    },
    {
      "cell_type": "code",
      "source": [
        "#6 MULTIPLICACION DE POLINOMIOS\n",
        "\n",
        "def Pol6(**kwargs):\n",
        "\n",
        "    class Pol6__class:\n",
        "\n",
        "        def __init__(self):\n",
        "            self.coefs = []\n",
        "\n",
        "        def add_term(self, c, e):\n",
        "\n",
        "            max_exp = len(self.coefs)-1\n",
        "            if e > max_exp:\n",
        "            # Añadir ceros a la lista para que tenga la longitud correcta\n",
        "              self.coefs += [0] * (e - max_exp)\n",
        "            #Añadir c al elemento correspondiente de la lista\n",
        "\n",
        "            self.coefs[e] += c\n",
        "\n",
        "            return self\n",
        "\n",
        "        def sum(self, q):\n",
        "            r = self.__class__()\n",
        "\n",
        "            r.coefs = add_lists(self.coefs, q.coefs)\n",
        "\n",
        "            return r\n",
        "\n",
        "        def mult(self, q):\n",
        "            r = self.__class__()\n",
        "\n",
        "            for i in range(len(self.coefs)):\n",
        "              for j in range(len(q.coefs)):\n",
        "                coef = self.coefs[i] * q.coefs[j]\n",
        "                exp = i + j\n",
        "                r.add_term(coef, exp)\n",
        "            return r\n",
        "\n",
        "        def show(self):\n",
        "            from IPython.display import Math, HTML, display\n",
        "            display(HTML(\"<script src='https://cdnjs.cloudflare.com/ajax/libs/mathjax/2.7.3/latest.js?config=default'></script>\"))\n",
        "            s = \"+\".join([\"%s^{%s}\"%(str(c) if e==0 else str(c)+\"x\" if c!=1 else \"x\", str(e) if e not in [0,1] else \"\") for e,c in enumerate(self.coefs) if c!=0])\n",
        "            s = s.replace(\"+-\", \"-\")\n",
        "            return Math(s)\n",
        "\n",
        "    return Pol6__class(**kwargs)\n",
        "\n",
        "p = Pol6()\n",
        "p.add_term(3,2).add_term(2,1).add_term(4,5)\n",
        "p.show()\n",
        "\n",
        "q = Pol6()\n",
        "q.add_term(2,5).add_term(4,1).add_term(3,8)\n",
        "q.show()\n",
        "p.mult(q).show()"
      ],
      "metadata": {
        "id": "3fEiFQBApBMQ",
        "colab": {
          "base_uri": "https://localhost:8080/",
          "height": 38
        },
        "outputId": "77e1efec-7540-4adf-f8f1-c91467df0fde"
      },
      "execution_count": null,
      "outputs": [
        {
          "output_type": "display_data",
          "data": {
            "text/plain": [
              "<IPython.core.display.HTML object>"
            ],
            "text/html": [
              "<script src='https://cdnjs.cloudflare.com/ajax/libs/mathjax/2.7.3/latest.js?config=default'></script>"
            ]
          },
          "metadata": {}
        },
        {
          "output_type": "display_data",
          "data": {
            "text/plain": [
              "<IPython.core.display.HTML object>"
            ],
            "text/html": [
              "<script src='https://cdnjs.cloudflare.com/ajax/libs/mathjax/2.7.3/latest.js?config=default'></script>"
            ]
          },
          "metadata": {}
        },
        {
          "output_type": "display_data",
          "data": {
            "text/plain": [
              "<IPython.core.display.HTML object>"
            ],
            "text/html": [
              "<script src='https://cdnjs.cloudflare.com/ajax/libs/mathjax/2.7.3/latest.js?config=default'></script>"
            ]
          },
          "metadata": {}
        },
        {
          "output_type": "execute_result",
          "data": {
            "text/plain": [
              "<IPython.core.display.Math object>"
            ],
            "text/latex": "$\\displaystyle 8x^{2}+12x^{3}+20x^{6}+6x^{7}+6x^{9}+17x^{10}+12x^{13}$"
          },
          "metadata": {},
          "execution_count": 8
        }
      ]
    },
    {
      "cell_type": "code",
      "source": [
        "student.submit_task(globals(), task_id=\"task_06\");"
      ],
      "metadata": {
        "id": "QDqrr_3O1d6T"
      },
      "execution_count": null,
      "outputs": []
    }
  ]
}