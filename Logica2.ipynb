{
  "nbformat": 4,
  "nbformat_minor": 0,
  "metadata": {
    "colab": {
      "provenance": [],
      "authorship_tag": "ABX9TyM1OuR/DTFIGnjrHwWDz0vU",
      "include_colab_link": true
    },
    "kernelspec": {
      "name": "python3",
      "display_name": "Python 3"
    },
    "language_info": {
      "name": "python"
    }
  },
  "cells": [
    {
      "cell_type": "markdown",
      "metadata": {
        "id": "view-in-github",
        "colab_type": "text"
      },
      "source": [
        "<a href=\"https://colab.research.google.com/github/EmmanuelUdeA/Logica2/blob/main/Logica2.ipynb\" target=\"_parent\"><img src=\"https://colab.research.google.com/assets/colab-badge.svg\" alt=\"Open In Colab\"/></a>"
      ]
    },
    {
      "cell_type": "code",
      "execution_count": null,
      "metadata": {
        "id": "-H91-p-QJlDJ",
        "colab": {
          "base_uri": "https://localhost:8080/"
        },
        "outputId": "335ba53b-a9a3-4942-e7ff-37681110a69f"
      },
      "outputs": [
        {
          "output_type": "stream",
          "name": "stdout",
          "text": [
            "MATERIA LOGICA 2\n"
          ]
        }
      ],
      "source": [
        "print(\"MATERIA LOGICA 2\")"
      ]
    },
    {
      "cell_type": "code",
      "source": [
        "import numpy as np\n",
        "import matplotlib.pyplot as plt\n",
        "import bisect"
      ],
      "metadata": {
        "id": "wa3TUboiAjGW"
      },
      "execution_count": null,
      "outputs": []
    },
    {
      "cell_type": "code",
      "source": [
        "\n",
        "arr = np.array([10, 15, 20, 25, 30, 35, 40])\n",
        "\n",
        "print(arr[::2])"
      ],
      "metadata": {
        "colab": {
          "base_uri": "https://localhost:8080/"
        },
        "id": "CzG1DyXgxUCQ",
        "outputId": "d6bfc30c-765d-4984-b8cd-db5f7e3d5491"
      },
      "execution_count": null,
      "outputs": [
        {
          "output_type": "stream",
          "name": "stdout",
          "text": [
            "[10 20 30 40]\n"
          ]
        }
      ]
    },
    {
      "cell_type": "code",
      "source": [
        "def seleccion( array ):\n",
        "  n = len(array)\n",
        "  for i in range (n-1): \n",
        "    k = i\n",
        "    for j in range (i+1, n):\n",
        "     if array[j] < array[k]:\n",
        "         k = j\n",
        "    array[i], array[k] = array[k], array[i]\n",
        "  return array"
      ],
      "metadata": {
        "id": "_jjHUCNzJrOR"
      },
      "execution_count": null,
      "outputs": []
    },
    {
      "cell_type": "code",
      "source": [
        "def seleccionInv (array):\n",
        "    n = len(array)\n",
        "    for i in range(n):\n",
        "      k = i\n",
        "      for j in range (i+1, n):\n",
        "        if array[j] > array[k]:\n",
        "          k = j\n",
        "          array[i], array[k] = array[k], array[i]\n",
        "    return array\n"
      ],
      "metadata": {
        "id": "tDkjzbFObP57"
      },
      "execution_count": null,
      "outputs": []
    },
    {
      "cell_type": "code",
      "source": [
        "def insercion ( array ):\n",
        "  for i in range(1, len(array)):\n",
        "      d = array[i]\n",
        "      j = i - 1\n",
        "      while j>= 0 and d < array[j]:\n",
        "        array[j+1] = array[j]\n",
        "        j -= 1\n",
        "      array[ j + 1] = d\n",
        "  return array\n",
        " \n",
        "\n",
        "\n"
      ],
      "metadata": {
        "id": "B9sW5MktUJRm"
      },
      "execution_count": null,
      "outputs": []
    },
    {
      "cell_type": "code",
      "source": [
        "def insercion_Inv(array):\n",
        "  for i in range(1,len(array)):\n",
        "    d = array[i]\n",
        "    j = i -1\n",
        "    while j>=0 and d > array[j]:\n",
        "      array[j+1] = array[j]\n",
        "      j -=1\n",
        "    array [j+1] = d\n",
        "  return array\n",
        "\n",
        "array = [2,4,5,7,8,9,3,6,1,10]  \n",
        "res = insercion_Inv(array)\n",
        "print(res)"
      ],
      "metadata": {
        "colab": {
          "base_uri": "https://localhost:8080/"
        },
        "id": "Ifwm1wkQZFdH",
        "outputId": "fdf78ed2-5675-41de-a5c4-e27deef273ea"
      },
      "execution_count": null,
      "outputs": [
        {
          "output_type": "stream",
          "name": "stdout",
          "text": [
            "[10, 9, 8, 7, 6, 5, 4, 3, 2, 1]\n"
          ]
        }
      ]
    },
    {
      "cell_type": "code",
      "source": [
        "def burbuja (array):\n",
        "    for i in range(len(array)):\n",
        "      for j in range(0, len(array)-i - 1):\n",
        "        if array[j] > array[j+1]:\n",
        "           array[j],array[j+1] = array[j+1],array[j]\n",
        "    return array"
      ],
      "metadata": {
        "id": "xFwPgDwLk035"
      },
      "execution_count": null,
      "outputs": []
    },
    {
      "cell_type": "code",
      "source": [],
      "metadata": {
        "id": "Oqq6oelmav8V"
      },
      "execution_count": null,
      "outputs": []
    },
    {
      "cell_type": "code",
      "source": [
        "def burbuja_Inv (array):\n",
        "    for i in range(len(array)):\n",
        "      for j in range(0,len(array)-i - 1):\n",
        "        if array[j] < array[j+1]:\n",
        "           array[j],array[j+1] = array[j+1],array[j] \n",
        "    return array\n",
        "  \n",
        "array = [2,4,5,7,8,9,3,6,1,10]  \n",
        "res = burbuja_Inv(array)\n",
        "print(res)"
      ],
      "metadata": {
        "colab": {
          "base_uri": "https://localhost:8080/"
        },
        "id": "3vcewlSXaLuC",
        "outputId": "3d913cda-7c11-4e90-b406-e05d3b4a4bf8"
      },
      "execution_count": null,
      "outputs": [
        {
          "output_type": "stream",
          "name": "stdout",
          "text": [
            "[10, 9, 8, 7, 6, 5, 4, 3, 2, 1]\n"
          ]
        }
      ]
    },
    {
      "cell_type": "code",
      "source": [
        "def burbuja_Mej (array):\n",
        "    for i in range(len(array)):\n",
        "      swap = False\n",
        "      for j in range (0, len(array)-i - 1):\n",
        "        if array[j] > array[j+1]:\n",
        "          array[j],array[j+1] = array[j+1],array[j]\n",
        "          swap = True\n",
        "\n",
        "      if swap == False:\n",
        "        break      \n",
        "    return array\n"
      ],
      "metadata": {
        "id": "jZWZDwwtSjcN"
      },
      "execution_count": null,
      "outputs": []
    },
    {
      "cell_type": "code",
      "source": [
        "def burbuja_Mej_Inv (array):\n",
        "    for i in range(len(array)):\n",
        "      swap = False\n",
        "      for j in range (0, len(array)-i - 1):\n",
        "        if array[j] < array[j+1]:\n",
        "          array[j],array[j+1] = array[j+1],array[j]\n",
        "          swap = True\n",
        "\n",
        "      if swap == False:\n",
        "        break      \n",
        "    return array\n",
        "\n",
        "array = [2,4,5,7,8,9,3,6,1,10]  \n",
        "res = burbuja_Mej_Inv(array)\n",
        "print(res)\n",
        "  \n"
      ],
      "metadata": {
        "colab": {
          "base_uri": "https://localhost:8080/"
        },
        "id": "nOfU_Vmvbde_",
        "outputId": "c3b8239d-04f1-4a20-85ac-9c52b0138a8f"
      },
      "execution_count": null,
      "outputs": [
        {
          "output_type": "stream",
          "name": "stdout",
          "text": [
            "[10, 9, 8, 7, 6, 5, 4, 3, 2, 1]\n"
          ]
        }
      ]
    },
    {
      "cell_type": "code",
      "source": [
        "def busqueda_Sec(array, dato):\n",
        "    for i in range(len(array)):\n",
        "        if array[i] == dato:\n",
        "            return i\n",
        "    return -1\n",
        "\n",
        "def resultado(array, dato):\n",
        "  index = busqueda_Sec(array, dato)\n",
        "\n",
        "  if index != -1:\n",
        "      print(\"El elemento\", dato, \"se encuentra en el índice\", index)\n",
        "  else:\n",
        "       print(\"El elemento\", dato, \"no se encuentra en el arreglo\")\n",
        "  return (\"finalizo el programa\")\n"
      ],
      "metadata": {
        "id": "kxI-M9fsbE7l"
      },
      "execution_count": null,
      "outputs": []
    },
    {
      "cell_type": "code",
      "source": [
        "def busqueda_Bin(array, dato):\n",
        "    a = 0\n",
        "    z = len(array) - 1\n",
        "    while a<=z:\n",
        "      med = (a+z)//2\n",
        "      if array[med] == dato: \n",
        "        return med\n",
        "      elif array[med] > dato:\n",
        "          z = med + 1 \n",
        "      else: \n",
        "          a = med - 1\n",
        "    return -1 \n"
      ],
      "metadata": {
        "id": "YKIKxoIev-Gm"
      },
      "execution_count": null,
      "outputs": []
    },
    {
      "cell_type": "code",
      "source": [
        "def quickSort(array):\n",
        "    if len(array) <= 1:\n",
        "        return array\n",
        "    else:\n",
        "        pivot = array[0]\n",
        "        less = [x for x in array[1:] if x <= pivot]\n",
        "        greater = [x for x in array[1:] if x > pivot]\n",
        "        return quickSort(less) + [pivot] + quickSort(greater)\n",
        "\n",
        "\n"
      ],
      "metadata": {
        "id": "crfG70wK0SyE"
      },
      "execution_count": null,
      "outputs": []
    },
    {
      "cell_type": "code",
      "source": [
        "def mergeSort(array):\n",
        "    if len(array) <= 1:\n",
        "        return array\n",
        "    else:\n",
        "        mid = len(array) // 2\n",
        "        left = array[:mid]\n",
        "        right = array[mid:]\n",
        "        left = mergeSort(left)\n",
        "        right = mergeSort(right)\n",
        "        return merge(left, right)\n",
        "\n",
        "def merge(left, right):\n",
        "    result = []\n",
        "    i, j = 0, 0\n",
        "    while i < len(left) and j < len(right):\n",
        "        if left[i] <= right[j]:\n",
        "            result.append(left[i])\n",
        "            i += 1\n",
        "        else:\n",
        "            result.append(right[j])\n",
        "            j += 1\n",
        "    while i < len(left):\n",
        "        result.append(left[i])\n",
        "        i += 1\n",
        "    while j < len(right):\n",
        "        result.append(right[j])\n",
        "        j += 1\n",
        "    return result"
      ],
      "metadata": {
        "id": "Dlt76ebIjTCa"
      },
      "execution_count": null,
      "outputs": []
    },
    {
      "cell_type": "code",
      "source": [
        "a = np.array([[1,2,3,4,5],\n",
        "              [5,4,3,2,1],\n",
        "              [9,8,7,6,5],\n",
        "              [7,6,5,6,7],\n",
        "              [2,2,2,3,3],\n",
        "              [4,3,4,3,4],\n",
        "              [5,1,1,4,1]])\n",
        "print(\"a shape\", a.shape)\n",
        "print(\"a rows\", a.shape[0])\n",
        "print(\"a cols\", a.shape[1])\n",
        "\n",
        "print(len(a.shape))\n",
        "\n",
        "\n",
        "v = np.array([[2,3,4,5,6,7,3,12],\n",
        "              [1,3,4,4,4,3,3,5],\n",
        "              [1,3,4,5,5,3,22,1],\n",
        "              [2,2,3,4,5,6,7,4]])\n",
        "print(\"v shape\", v.shape)\n",
        "print(\"v rows\", v.shape[0])\n",
        "print(\"v cols\", v.shape[1])\n",
        "print(\"v elements row1\", v[1])\n",
        "print(\"V varias filas: \", v[1:3])\n",
        "print(\"v porcion\", v[1:3,0:2])\n",
        "\n",
        "\n",
        "print(\"suma total\", np.sum(v))\n",
        "print(\"suma eje 0\", np.sum(v, axis=0))\n",
        "print(\"suma eje 1\", np.sum(v, axis=1))\n",
        "print(\"promedio total\", np.mean(v))\n",
        "print(\"promedio eje 0\", np.mean(v, axis=0))\n",
        "print(\"promedio eje 1\", np.mean(v, axis=1))\n",
        "\n",
        "\n",
        "z = np.random.randint(500, size=(5,6))\n",
        "print(z)\n",
        "\n",
        "np.sum(z, axis=1)\n",
        "\n"
      ],
      "metadata": {
        "id": "ZI4Lzc5SngaR"
      },
      "execution_count": null,
      "outputs": []
    },
    {
      "cell_type": "code",
      "source": [
        "%matplotlib inline\n",
        "x = np.linspace(-4,4,20)\n",
        "plt.plot(x, x**2, label=\"x^2 plot\")\n",
        "plt.scatter(x, x**2, label=\"muestras\")\n",
        "plt.plot(x, x**3, label=\"$x^3$\", color=\"red\")\n",
        "plt.xlim([-2,2])\n",
        "plt.ylim([-20, 20])\n",
        "plt.legend()\n",
        "\n",
        "\n",
        "plt.figure(figsize=(5,3))\n",
        "x = np.linspace(-4,4,10)\n",
        "plt.plot(x, x**2, color=\"black\", linewidth=1)\n",
        "plt.scatter(x, x**2, c=\"green\", s=50)\n",
        "x_r = np.linspace(-4,4,100)\n",
        "x_ruido = x_r**2 + (np.random.random(x_r.shape)-0.5)*10\n",
        "plt.scatter(x_r,x_ruido, c=\"red\", alpha=0.4)"
      ],
      "metadata": {
        "id": "WbcQSxuOrrE-",
        "colab": {
          "base_uri": "https://localhost:8080/",
          "height": 480
        },
        "outputId": "76f560c1-4df6-4f4d-c420-34174827941f"
      },
      "execution_count": null,
      "outputs": [
        {
          "output_type": "execute_result",
          "data": {
            "text/plain": [
              "<matplotlib.collections.PathCollection at 0x7f04004e8fa0>"
            ]
          },
          "metadata": {},
          "execution_count": 3
        },
        {
          "output_type": "display_data",
          "data": {
            "text/plain": [
              "<Figure size 432x288 with 1 Axes>"
            ],
            "image/png": "[encoded data removed]"
          },
          "metadata": {
            "needs_background": "light"
          }
        },
        {
          "output_type": "display_data",
          "data": {
            "text/plain": [
              "<Figure size 360x216 with 1 Axes>"
            ],
            "image/png": "[encoded data removed]"
          },
          "metadata": {
            "needs_background": "light"
          }
        }
      ]
    },
    {
      "cell_type": "code",
      "source": [
        "import numpy as np\n",
        "\n",
        "def suma_matrices(a,b):\n",
        "    matriz_a = np.array(a)\n",
        "    matriz_b = np.array(b)\n",
        "    result = matriz_a + matriz_b\n",
        "    return result\n"
      ],
      "metadata": {
        "id": "h1-kslnvnIRj"
      },
      "execution_count": null,
      "outputs": []
    },
    {
      "cell_type": "code",
      "source": [
        "def suma_matrices(a,b):\n",
        "    filas = len(a)\n",
        "    columnas = len(a[0])\n",
        "    resultado = []\n",
        "    for i in range(filas):\n",
        "        fila = []\n",
        "        for j in range(columnas):\n",
        "            fila.append(a[i][j] + b[i][j])\n",
        "        resultado.append(fila)\n",
        "      \n",
        "    return resultado\n",
        "\n",
        "   "
      ],
      "metadata": {
        "id": "FBaGcWH8nIiL"
      },
      "execution_count": null,
      "outputs": []
    },
    {
      "cell_type": "code",
      "source": [
        "a = np.random.randint(100, size=(3,2))\n",
        "b = np.random.randint(100, size=(3,2))\n",
        "print (a)\n",
        "print (b)\n",
        "print (\"---resultado----\\n\",suma_matrices(a,b))"
      ],
      "metadata": {
        "id": "0mGmJp1tX7ec"
      },
      "execution_count": null,
      "outputs": []
    },
    {
      "cell_type": "code",
      "source": [
        "#LABORATORIO 1\n",
        "#1 Aregar elemento\n",
        "def append(l, d):\n",
        "    l.append(d)\n",
        "    return l\n",
        "\n",
        "x = [1,4,3]\n",
        "append(x,5)\n",
        "\n",
        "#2 funcion valor del ultimo elemento.\n",
        "#  nueva lista en que se elimino el ultimo elemento\n",
        "# vacia == error\n",
        "\n",
        "def getremove_last(l):\n",
        "  n = len(l)\n",
        "  assert (n) >  0, \"Lista vacia genera error\"\n",
        "  val, rest_list = l[-1], l.pop()\n",
        "  rest_list = l\n",
        "  return val, rest_list\n",
        "\n",
        "x = [1,2,3,4,5,6,7]\n",
        "print(\"inicial\", x)\n",
        "\n",
        "for i in range(len(x)+1):\n",
        "    v,x = getremove_last(x)\n",
        "    print (\"Last val: \",v, \", lista restante: \", x)\n",
        "  \n",
        "\n",
        "#x = [1,5,6,9,8]\n",
        "#print (\"initial\", x)\n",
        "#for _ in range(len(x)+1):\n",
        " #   v,x = getremove_last(x)\n",
        "  #  print (\"last val\", v, \", remaining list\", x)\n"
      ],
      "metadata": {
        "id": "wpP2NwNLYG7R"
      },
      "execution_count": null,
      "outputs": []
    },
    {
      "cell_type": "code",
      "source": [
        "#3 Implementacion de un stack\n",
        "def Stack(**kwargs):\n",
        "    def append(l, d):\n",
        "        l.append(d)\n",
        "        return l\n",
        "\n",
        "    def getremove_last(l):\n",
        "        n = len(l)\n",
        "        assert (n) >  0, \"Lista vacia genera error\"\n",
        "        val, rest_list = l[-1], l.pop()\n",
        "        rest_list = l\n",
        "        return val, rest_list\n",
        "\n",
        "    class Stack__class:\n",
        "\n",
        "        def __init__(self):\n",
        "            self.elements = []\n",
        "\n",
        "        def put(self, d):\n",
        "            self.elements.append(d)\n",
        "            return self\n",
        "\n",
        "        def get(self):\n",
        "          assert (len(self.elements)) >  0, \"Lista vacia genera error\"\n",
        "          return self.elements.pop() \n",
        "            \n",
        "\n",
        "        def len(self):\n",
        "            return len(self.elements)\n",
        "        \n",
        "    return Stack__class(**kwargs)\n",
        "\n",
        "print (\"stacking elements\")\n",
        "s = Stack()\n",
        "s.put(4).put(2).put(\"hola\")\n",
        "print (s.len())\n",
        "print (s.elements)\n",
        "\n",
        "print (\"\\n--\\nunstacking\")\n",
        "for _ in range(s.len()):\n",
        "    print (s.get())\n",
        "    \n",
        "try:\n",
        "    s.get()\n",
        "    print (\"*** cuidado! tu código no contiene asserts\")\n",
        "except AssertionError:\n",
        "    print (\"*** tu codigo está generando asserts correctos\")\n",
        "\n",
        "\n"
      ],
      "metadata": {
        "id": "fzPvEGXYB1dp"
      },
      "execution_count": null,
      "outputs": []
    },
    {
      "cell_type": "code",
      "source": [
        "#4 Implementacion de una Cola \n",
        "\n",
        "def Queue(**kwargs):\n",
        "    \n",
        "    def append(l, d):\n",
        "        l.append(d)\n",
        "        return l\n",
        "\n",
        "    def getremove_last(l):\n",
        "        n = len(l)\n",
        "        assert (n) >  0, \"Lista vacia genera error\"\n",
        "        val, rest_list = l[-1], l.pop()\n",
        "        rest_list = l\n",
        "        return val, rest_list\n",
        "\n",
        "\n",
        "    class Queue__class:\n",
        "\n",
        "        def __init__(self):\n",
        "            self.elements = []\n",
        "\n",
        "        def put(self, d):\n",
        "            self.elements.append(d)\n",
        "            return self\n",
        "\n",
        "        def get(self):\n",
        "            assert (len(self.elements)) >  0, \"Lista vacia genera error\"\n",
        "            return self.elements.pop() \n",
        "\n",
        "        def len(self):\n",
        "            return len(self.elements)\n",
        "\n",
        "        \n",
        "    return Queue__class(**kwargs)\n",
        "\n",
        "\n",
        "print (\"enqueueing elements\")\n",
        "q = Queue()\n",
        "q.put(4).put(2).put(\"hola\")\n",
        "print (q.len())\n",
        "print (q.elements)\n",
        "\n",
        "print (\"\\n--\\ndequeueing\")\n",
        "for _ in range(q.len()):\n",
        "    print (q.get())\n",
        "\n",
        "print (\"this next call must fail\")\n",
        "\n",
        "try:\n",
        "    q.get()\n",
        "    print (\"*** cuidado! tu código no contiene asserts\")\n",
        "except AssertionError:\n",
        "    print (\"*** tu codigo está generando asserts correctos\")\n",
        "\n"
      ],
      "metadata": {
        "id": "QmKc5UkbbQZ9"
      },
      "execution_count": null,
      "outputs": []
    },
    {
      "cell_type": "code",
      "source": [
        "#5 completar funcion que debe llenar una cola o pila\n",
        "\n",
        "import numpy as np\n",
        "\n",
        "\n",
        "from queue import Queue\n",
        "\n",
        "\n",
        "\n",
        "def fill(t, n):\n",
        "    for i in range(n):\n",
        "      aleat = np.random.randint(0,10)\n",
        "      t.put(aleat)\n",
        "    return (t)\n",
        "\n",
        "\n",
        "q = fill(Queue(), 100)\n",
        "print (\"len=\",q.qsize())\n",
        "for _ in range(q.qsize()):\n",
        "    print (q.get(), end=\" \")\n",
        "\n",
        "\n",
        "\n",
        "\n"
      ],
      "metadata": {
        "id": "xmwqZSuaelOe"
      },
      "execution_count": null,
      "outputs": []
    },
    {
      "cell_type": "code",
      "source": [
        "def empty(t):\n",
        "    datos = set()\n",
        "    while not t.empty():\n",
        "        datos.add(t.get())\n",
        "    return datos\n",
        "\n",
        "a = [1,2,3,4,5,6,7,8,9]\n",
        "q = Queue()\n",
        "for i in a:\n",
        "    q.put(i)\n",
        "k = empty(q)\n",
        "print(k)"
      ],
      "metadata": {
        "colab": {
          "base_uri": "https://localhost:8080/"
        },
        "id": "ijyZ8qpLj-Ev",
        "outputId": "ca9c2690-e53e-4979-9a2e-49a1dfc86bc7"
      },
      "execution_count": null,
      "outputs": [
        {
          "output_type": "stream",
          "name": "stdout",
          "text": [
            "{1, 2, 3, 4, 5, 6, 7, 8, 9}\n"
          ]
        }
      ]
    },
    {
      "cell_type": "code",
      "source": [
        "import matplotlib.pyplot as plt\n",
        "\n",
        "%matplotlib inline\n",
        "def compare(class_1, class_2, n_powers=5):\n",
        "    global n, class_A, class_B, q\n",
        "    class_A = class_1\n",
        "    class_B = class_2\n",
        "    t1, t2, t3, t4 = [], [], [], []\n",
        "\n",
        "    ns = [int(10**i) for i in range(n_powers)]\n",
        "    \n",
        "    for n in ns:\n",
        "        print (n,end=\" \")\n",
        "        k = %timeit -o -q fill(class_A(), n)\n",
        "        t1.append(k.best*1000)\n",
        "\n",
        "        k = %timeit -o -q fill(class_B(), n)\n",
        "        t2.append(k.best*1000)\n",
        "        \n",
        "        q = fill(class_A(), n)\n",
        "        k = %timeit -o -r 1 -n 1 -q empty(q)\n",
        "        t3.append(k.best*1000)\n",
        "\n",
        "        q = fill(class_B(), n)\n",
        "        k = %timeit -o -r 1 -n 1 -q empty(q)\n",
        "        t4.append(k.best*1000)\n",
        "                \n",
        "    plt.figure(figsize=(10,3))\n",
        "    \n",
        "    plt.subplot(121)\n",
        "    plt.plot(t1, label=class_A.__name__+\" fill\")\n",
        "    plt.plot(t2, label=class_B.__name__+\" fill\")\n",
        "    plt.xticks(range(len(ns)), ns)\n",
        "    plt.xlabel(\"number of elements\")\n",
        "    plt.ylabel(\"time (ms)\")\n",
        "    plt.legend()\n",
        "    \n",
        "    plt.subplot(122)\n",
        "    plt.plot(t3, label=class_A.__name__+\" empty\")\n",
        "    plt.plot(t4, label=class_B.__name__+\" empty\")\n",
        "    plt.xticks(range(len(ns)), ns)\n",
        "    plt.xlabel(\"number of elements\")\n",
        "    plt.legend()"
      ],
      "metadata": {
        "id": "oviKB1vV0i2Q"
      },
      "execution_count": null,
      "outputs": []
    },
    {
      "cell_type": "code",
      "source": [
        "compare(Queue, Stack);\n"
      ],
      "metadata": {
        "id": "HeMOn5ob09qW"
      },
      "execution_count": null,
      "outputs": []
    },
    {
      "cell_type": "code",
      "source": [
        "import queue\n",
        "\n",
        "class wQueue(queue.Queue):\n",
        "    def len(self):\n",
        "        return self.qsize()\n",
        "\n",
        "class wLifoQueue(queue.LifoQueue):\n",
        "    def len(self):\n",
        "        return self.qsize()\n",
        "\n",
        "    \n",
        "compare(wQueue, wLifoQueue)"
      ],
      "metadata": {
        "id": "qIhWr51S0wgS"
      },
      "execution_count": null,
      "outputs": []
    },
    {
      "cell_type": "code",
      "source": [],
      "metadata": {
        "id": "K93R4NdnBLGK"
      },
      "execution_count": null,
      "outputs": []
    },
    {
      "cell_type": "markdown",
      "source": [],
      "metadata": {
        "id": "851pPGx2zytx"
      }
    },
    {
      "cell_type": "markdown",
      "source": [],
      "metadata": {
        "id": "Z9n-UOZ6zy3F"
      }
    }
  ]
}