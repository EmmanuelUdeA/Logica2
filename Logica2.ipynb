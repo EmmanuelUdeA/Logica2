{
  "nbformat": 4,
  "nbformat_minor": 0,
  "metadata": {
    "colab": {
      "provenance": [],
      "authorship_tag": "ABX9TyN0EPxlptHPZdxB3A7Edc+L",
      "include_colab_link": true
    },
    "kernelspec": {
      "name": "python3",
      "display_name": "Python 3"
    },
    "language_info": {
      "name": "python"
    }
  },
  "cells": [
    {
      "cell_type": "markdown",
      "metadata": {
        "id": "view-in-github",
        "colab_type": "text"
      },
      "source": [
        "<a href=\"https://colab.research.google.com/github/EmmanuelUdeA/Logica2/blob/main/Logica2.ipynb\" target=\"_parent\"><img src=\"https://colab.research.google.com/assets/colab-badge.svg\" alt=\"Open In Colab\"/></a>"
      ]
    },
    {
      "cell_type": "code",
      "execution_count": null,
      "metadata": {
        "id": "-H91-p-QJlDJ",
        "colab": {
          "base_uri": "https://localhost:8080/"
        },
        "outputId": "335ba53b-a9a3-4942-e7ff-37681110a69f"
      },
      "outputs": [
        {
          "output_type": "stream",
          "name": "stdout",
          "text": [
            "MATERIA LOGICA 2\n"
          ]
        }
      ],
      "source": [
        "print(\"MATERIA LOGICA 2\")"
      ]
    },
    {
      "cell_type": "code",
      "source": [
        "def seleccion( array ):\n",
        "  n = len(array)\n",
        "  for i in range (n-1): \n",
        "    k = i\n",
        "    for j in range (i+1, n):\n",
        "     if array[j] < array[k]:\n",
        "         k = j\n",
        "    array[i], array[k] = array[k], array[i]\n",
        "  return array"
      ],
      "metadata": {
        "id": "_jjHUCNzJrOR"
      },
      "execution_count": null,
      "outputs": []
    },
    {
      "cell_type": "code",
      "source": [
        "def seleccionInv (array):\n",
        "    n = len(array)\n",
        "    for i in range(n):\n",
        "      k = i\n",
        "      for j in range (i+1, n):\n",
        "        if array[j] > array[k]:\n",
        "          k = j\n",
        "          array[i], array[k] = array[k], array[i]\n",
        "    return array\n"
      ],
      "metadata": {
        "id": "tDkjzbFObP57"
      },
      "execution_count": null,
      "outputs": []
    },
    {
      "cell_type": "code",
      "source": [
        "def insercion ( array ):\n",
        "  for i in range(1, len(array)):\n",
        "      d = array[i]\n",
        "      j = i - 1\n",
        "      while j>= 0 and d < array[j]:\n",
        "        array[j+1] = array[j]\n",
        "        j -= 1\n",
        "      array[ j + 1] = d\n",
        "  return array\n",
        " \n",
        "\n",
        "\n"
      ],
      "metadata": {
        "id": "B9sW5MktUJRm"
      },
      "execution_count": null,
      "outputs": []
    },
    {
      "cell_type": "code",
      "source": [
        "def insercion_Inv(array):\n",
        "  for i in range(1,len(array)):\n",
        "    d = array[i]\n",
        "    j = i -1\n",
        "    while j>=0 and d > array[j]:\n",
        "      array[j+1] = array[j]\n",
        "      j -=1\n",
        "    array [j+1] = d\n",
        "  return array\n",
        "\n",
        "array = [2,4,5,7,8,9,3,6,1,10]  \n",
        "res = insercion_Inv(array)\n",
        "print(res)"
      ],
      "metadata": {
        "colab": {
          "base_uri": "https://localhost:8080/"
        },
        "id": "Ifwm1wkQZFdH",
        "outputId": "fdf78ed2-5675-41de-a5c4-e27deef273ea"
      },
      "execution_count": 6,
      "outputs": [
        {
          "output_type": "stream",
          "name": "stdout",
          "text": [
            "[10, 9, 8, 7, 6, 5, 4, 3, 2, 1]\n"
          ]
        }
      ]
    },
    {
      "cell_type": "code",
      "source": [
        "def burbuja (array):\n",
        "    for i in range(len(array)):\n",
        "      for j in range(0, len(array)-i - 1):\n",
        "        if array[j] > array[j+1]:\n",
        "           array[j],array[j+1] = array[j+1],array[j]\n",
        "    return array"
      ],
      "metadata": {
        "id": "xFwPgDwLk035"
      },
      "execution_count": null,
      "outputs": []
    },
    {
      "cell_type": "code",
      "source": [],
      "metadata": {
        "id": "Oqq6oelmav8V"
      },
      "execution_count": null,
      "outputs": []
    },
    {
      "cell_type": "code",
      "source": [
        "def burbuja_Inv (array):\n",
        "    for i in range(len(array)):\n",
        "      for j in range(0,len(array)-i - 1):\n",
        "        if array[j] < array[j+1]:\n",
        "           array[j],array[j+1] = array[j+1],array[j] \n",
        "    return array\n",
        "  \n",
        "array = [2,4,5,7,8,9,3,6,1,10]  \n",
        "res = burbuja_Inv(array)\n",
        "print(res)"
      ],
      "metadata": {
        "colab": {
          "base_uri": "https://localhost:8080/"
        },
        "id": "3vcewlSXaLuC",
        "outputId": "3d913cda-7c11-4e90-b406-e05d3b4a4bf8"
      },
      "execution_count": 9,
      "outputs": [
        {
          "output_type": "stream",
          "name": "stdout",
          "text": [
            "[10, 9, 8, 7, 6, 5, 4, 3, 2, 1]\n"
          ]
        }
      ]
    },
    {
      "cell_type": "code",
      "source": [
        "def burbuja_Mej (array):\n",
        "    for i in range(len(array)):\n",
        "      swap = False\n",
        "      for j in range (0, len(array)-i - 1):\n",
        "        if array[j] > array[j+1]:\n",
        "          array[j],array[j+1] = array[j+1],array[j]\n",
        "          swap = True\n",
        "\n",
        "      if swap == False:\n",
        "        break      \n",
        "    return array\n"
      ],
      "metadata": {
        "id": "jZWZDwwtSjcN"
      },
      "execution_count": null,
      "outputs": []
    },
    {
      "cell_type": "code",
      "source": [
        "def burbuja_Mej_Inv (array):\n",
        "    for i in range(len(array)):\n",
        "      swap = False\n",
        "      for j in range (0, len(array)-i - 1):\n",
        "        if array[j] < array[j+1]:\n",
        "          array[j],array[j+1] = array[j+1],array[j]\n",
        "          swap = True\n",
        "\n",
        "      if swap == False:\n",
        "        break      \n",
        "    return array\n",
        "\n",
        "array = [2,4,5,7,8,9,3,6,1,10]  \n",
        "res = burbuja_Mej_Inv(array)\n",
        "print(res)\n",
        "  \n"
      ],
      "metadata": {
        "colab": {
          "base_uri": "https://localhost:8080/"
        },
        "id": "nOfU_Vmvbde_",
        "outputId": "c3b8239d-04f1-4a20-85ac-9c52b0138a8f"
      },
      "execution_count": 16,
      "outputs": [
        {
          "output_type": "stream",
          "name": "stdout",
          "text": [
            "[10, 9, 8, 7, 6, 5, 4, 3, 2, 1]\n"
          ]
        }
      ]
    },
    {
      "cell_type": "code",
      "source": [
        "def busqueda_Sec(array, dato):\n",
        "    for i in range(len(array)):\n",
        "        if array[i] == dato:\n",
        "            return i\n",
        "    return -1\n",
        "\n",
        "def resultado(array, dato):\n",
        "  index = busqueda_Sec(array, dato)\n",
        "\n",
        "  if index != -1:\n",
        "      print(\"El elemento\", dato, \"se encuentra en el índice\", index)\n",
        "  else:\n",
        "       print(\"El elemento\", dato, \"no se encuentra en el arreglo\")\n",
        "  return (\"finalizo el programa\")\n"
      ],
      "metadata": {
        "id": "kxI-M9fsbE7l"
      },
      "execution_count": 15,
      "outputs": []
    },
    {
      "cell_type": "code",
      "source": [
        "def busqueda_Bin(array, dato):\n",
        "    a = 0\n",
        "    z = len(array) - 1\n",
        "    while a<=z:\n",
        "      med = (a+z)//2\n",
        "      if array[med] == dato: \n",
        "        return med\n",
        "      elif array[med] > dato:\n",
        "          z = med + 1 \n",
        "      else: \n",
        "          a = med - 1\n",
        "    return -1 \n"
      ],
      "metadata": {
        "id": "YKIKxoIev-Gm"
      },
      "execution_count": 1,
      "outputs": []
    },
    {
      "cell_type": "code",
      "source": [
        "\n",
        "\n",
        "\n",
        "\n"
      ],
      "metadata": {
        "colab": {
          "base_uri": "https://localhost:8080/",
          "height": 235
        },
        "id": "crfG70wK0SyE",
        "outputId": "84126809-0af5-4979-840f-420592c57e34"
      },
      "execution_count": null,
      "outputs": [
        {
          "output_type": "error",
          "ename": "NameError",
          "evalue": "ignored",
          "traceback": [
            "\u001b[0;31m---------------------------------------------------------------------------\u001b[0m",
            "\u001b[0;31mNameError\u001b[0m                                 Traceback (most recent call last)",
            "\u001b[0;32m<ipython-input-1-1405dd74c352>\u001b[0m in \u001b[0;36m<module>\u001b[0;34m\u001b[0m\n\u001b[0;32m----> 1\u001b[0;31m \u001b[0marray\u001b[0m \u001b[0;34m=\u001b[0m \u001b[0mburbuja\u001b[0m\u001b[0;34m(\u001b[0m\u001b[0;34m[\u001b[0m\u001b[0;36m1\u001b[0m\u001b[0;34m,\u001b[0m\u001b[0;36m4\u001b[0m\u001b[0;34m,\u001b[0m\u001b[0;36m6\u001b[0m\u001b[0;34m,\u001b[0m\u001b[0;36m76\u001b[0m\u001b[0;34m,\u001b[0m\u001b[0;36m56\u001b[0m\u001b[0;34m,\u001b[0m\u001b[0;36m856\u001b[0m\u001b[0;34m,\u001b[0m\u001b[0;36m86\u001b[0m\u001b[0;34m,\u001b[0m\u001b[0;36m8\u001b[0m\u001b[0;34m,\u001b[0m\u001b[0;36m5\u001b[0m\u001b[0;34m,\u001b[0m\u001b[0;36m3\u001b[0m\u001b[0;34m,\u001b[0m\u001b[0;36m5\u001b[0m\u001b[0;34m,\u001b[0m\u001b[0;36m77\u001b[0m\u001b[0;34m,\u001b[0m\u001b[0;36m8888\u001b[0m\u001b[0;34m,\u001b[0m\u001b[0;36m999\u001b[0m\u001b[0;34m,\u001b[0m\u001b[0;36m65\u001b[0m\u001b[0;34m,\u001b[0m\u001b[0;36m44\u001b[0m\u001b[0;34m,\u001b[0m\u001b[0;36m21\u001b[0m\u001b[0;34m,\u001b[0m\u001b[0;36m23\u001b[0m\u001b[0;34m,\u001b[0m\u001b[0;36m45\u001b[0m\u001b[0;34m,\u001b[0m\u001b[0;36m67\u001b[0m\u001b[0;34m,\u001b[0m\u001b[0;36m88\u001b[0m\u001b[0;34m,\u001b[0m\u001b[0;36m100\u001b[0m\u001b[0;34m,\u001b[0m\u001b[0;36m44444444444\u001b[0m\u001b[0;34m]\u001b[0m\u001b[0;34m)\u001b[0m\u001b[0;34m\u001b[0m\u001b[0;34m\u001b[0m\u001b[0m\n\u001b[0m\u001b[1;32m      2\u001b[0m \u001b[0mprint\u001b[0m\u001b[0;34m(\u001b[0m\u001b[0marray\u001b[0m\u001b[0;34m)\u001b[0m\u001b[0;34m\u001b[0m\u001b[0;34m\u001b[0m\u001b[0m\n\u001b[1;32m      3\u001b[0m \u001b[0mresultado2\u001b[0m \u001b[0;34m=\u001b[0m \u001b[0mbusqueda_Sec\u001b[0m\u001b[0;34m(\u001b[0m\u001b[0marray\u001b[0m\u001b[0;34m,\u001b[0m\u001b[0;36m100\u001b[0m\u001b[0;34m)\u001b[0m\u001b[0;34m\u001b[0m\u001b[0;34m\u001b[0m\u001b[0m\n\u001b[1;32m      4\u001b[0m \u001b[0mresul\u001b[0m \u001b[0;34m=\u001b[0m \u001b[0mresultado\u001b[0m\u001b[0;34m(\u001b[0m\u001b[0;34m)\u001b[0m\u001b[0;34m\u001b[0m\u001b[0;34m\u001b[0m\u001b[0m\n\u001b[1;32m      5\u001b[0m \u001b[0mprint\u001b[0m\u001b[0;34m(\u001b[0m\u001b[0mresultado2\u001b[0m\u001b[0;34m)\u001b[0m\u001b[0;34m\u001b[0m\u001b[0;34m\u001b[0m\u001b[0m\n",
            "\u001b[0;31mNameError\u001b[0m: name 'burbuja' is not defined"
          ]
        }
      ]
    }
  ]
}