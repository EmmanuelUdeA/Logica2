{
  "nbformat": 4,
  "nbformat_minor": 0,
  "metadata": {
    "colab": {
      "provenance": [],
      "authorship_tag": "ABX9TyOZHMQzwile0Yw9viEWdGa5",
      "include_colab_link": true
    },
    "kernelspec": {
      "name": "python3",
      "display_name": "Python 3"
    },
    "language_info": {
      "name": "python"
    }
  },
  "cells": [
    {
      "cell_type": "markdown",
      "metadata": {
        "id": "view-in-github",
        "colab_type": "text"
      },
      "source": [
        "<a href=\"https://colab.research.google.com/github/EmmanuelUdeA/Logica2/blob/main/MatricesDis.ipynb\" target=\"_parent\"><img src=\"https://colab.research.google.com/assets/colab-badge.svg\" alt=\"Open In Colab\"/></a>"
      ]
    },
    {
      "cell_type": "code",
      "execution_count": null,
      "metadata": {
        "id": "h1aXu1OsRYlt"
      },
      "outputs": [],
      "source": [
        "import numpy as np\n",
        "import matplotlib.pyplot as plt\n",
        "import bisect\n"
      ]
    },
    {
      "cell_type": "code",
      "source": [
        "\n",
        "\n",
        "class Triplet:\n",
        "    \n",
        "    def __init__(self, row, col, val):\n",
        "        assert isinstance(row, int) and isinstance(col, int) and row>=0 and col>=0\n",
        "        \n",
        "        self.row = row\n",
        "        self.col = col\n",
        "        self.val = val\n",
        "    \n",
        "    def __repr__(self):\n",
        "        return \"[%d %d] = %s\"%(self.row, self.col, str(self.val))"
      ],
      "metadata": {
        "id": "zsMt9VeLT-K3"
      },
      "execution_count": null,
      "outputs": []
    },
    {
      "cell_type": "code",
      "source": [
        "import itertools\n",
        "\n",
        "class SparseMatrix:\n",
        "    \n",
        "    def __init__(self, m=None):\n",
        "        self.triplets = []\n",
        "        self.shape = m.shape if m is not None else (0,0)\n",
        "        if m is not None:\n",
        "            for i,j in itertools.product(list(range(m.shape[0])), list(range(m.shape[1]))):\n",
        "                if m[i,j]!=0:\n",
        "                    self.triplets.append(Triplet(i,j,m[i,j]))\n",
        "        \n",
        "    def to_dense(self):\n",
        "        r = np.zeros(self.shape)\n",
        "        for t in self.triplets:\n",
        "            r[t.row, t.col] = t.val\n",
        "        return r\n",
        "    \n",
        "    def sparseness_metric(self):\n",
        "        return len(self.triplets) *1./(self.shape[0]*self.shape[1])\n",
        "    \n",
        "    def __getitem__(self, pos):\n",
        "        i,j = pos\n",
        "        for t in self.triplets:\n",
        "            if t.row==i and t.col==j:\n",
        "                return t.val\n",
        "        return 0\n",
        "\n",
        "    def __setitem__(self, pos, val):\n",
        "        i,j = pos\n",
        "        if val==0:\n",
        "            return\n",
        "        \n",
        "        for t in self.triplets:\n",
        "            if t.row==i and t.col==j:\n",
        "                t.val=val\n",
        "                return\n",
        "        self.triplets.append(Triplet(i,j,val))\n",
        "        self.shape = (np.max([self.shape[0], i+1]), np.max([self.shape[1], j+1]))\n",
        "\n",
        "    def __add__(self, m):\n",
        "        r = self.__class__()\n",
        "        for t in m.triplets + self.triplets:\n",
        "            r[t.row, t.col] = r[t.row, t.col] + t.val\n",
        "        return r\n",
        "    \n",
        "    def dot(self, m):\n",
        "        assert self.shape[0]==m.shape[1] and self.shape[1]==m.shape[0], \"incorrect dimensions %s x %s\"%(str(self.shape), str(m.shape))\n",
        "        \n",
        "        r = self.__class__()\n",
        "        for t1 in self.triplets:\n",
        "            for t2 in m.triplets:\n",
        "                if t1.col==t2.row:\n",
        "                    r[t1.row, t2.col] = r[t1.row, t2.col] + t1.val*t2.val\n",
        "        return r\n",
        "            \n",
        "    def T(self):\n",
        "        r = self.__class__()\n",
        "        for t in self.triplets:\n",
        "            r[t.col, t.row] = t.val\n",
        "        return r\n",
        "    \n",
        "   \n",
        "    def __repr__(self):\n",
        "        return \"shape    = %s\\ntriplets = %s\"%(self.shape, self.triplets)"
      ],
      "metadata": {
        "id": "oPbW1gO-ZnUw"
      },
      "execution_count": null,
      "outputs": []
    },
    {
      "cell_type": "code",
      "source": [
        "def random_sparse_matrix(size):\n",
        "    m = np.random.randint(2, size=size) # Iniciar con 2 para que el valor sea 1\n",
        "    m = m * np.random.randint(10,size=size)\n",
        "    return m\n",
        "m = random_sparse_matrix((3,3))\n",
        "print(m.shape)\n",
        "m"
      ],
      "metadata": {
        "id": "lzJs_UabawGX"
      },
      "execution_count": null,
      "outputs": []
    },
    {
      "cell_type": "code",
      "source": [
        "def random_sparse_matrix(max_rows, max_cols, n_items):\n",
        "    m = SparseMatrix()\n",
        "    for _ in range(n_items):\n",
        "        i = np.random.randint(max_rows)\n",
        "        j = np.random.randint(max_cols)\n",
        "        v = np.random.randint(100)\n",
        "        m[i,j] = v\n",
        "    return m"
      ],
      "metadata": {
        "id": "DvM21RXliXXI"
      },
      "execution_count": null,
      "outputs": []
    },
    {
      "cell_type": "code",
      "source": [
        "k=random_sparse_matrix(1000,1000,1000)\n",
        "k.to_dense()\n"
      ],
      "metadata": {
        "id": "EkVXE9sPiqQ7"
      },
      "execution_count": null,
      "outputs": []
    },
    {
      "cell_type": "code",
      "source": [
        "k.shape, k.sparseness_metric()"
      ],
      "metadata": {
        "id": "Tb8M0lNgi5lh"
      },
      "execution_count": null,
      "outputs": []
    },
    {
      "cell_type": "code",
      "source": [
        "r1 = []\n",
        "n1 = range(50,1000,50)\n",
        "for n in n1:\n",
        "    print (n, end=\" \")\n",
        "    k = %timeit -o -q -r 3 -n 3 random_sparse_matrix(n,n,1000)\n",
        "    r1.append(k.best)"
      ],
      "metadata": {
        "colab": {
          "base_uri": "https://localhost:8080/"
        },
        "id": "E4S5mrHXjPgJ",
        "outputId": "81f94dc2-ff72-45a0-e8da-d9eb0d55c762"
      },
      "execution_count": null,
      "outputs": [
        {
          "output_type": "stream",
          "name": "stdout",
          "text": [
            "50 100 150 200 250 300 350 400 450 500 550 600 650 700 750 800 850 900 950 "
          ]
        }
      ]
    },
    {
      "cell_type": "code",
      "source": [
        "r2 = []\n",
        "n2 = range(50,3000,100)\n",
        "for n in n2:\n",
        "    print (n, end=\" \")\n",
        "    k = %timeit -o -q -r 3 -n 3 random_sparse_matrix(200,200,n)\n",
        "    r2.append(k.best)"
      ],
      "metadata": {
        "colab": {
          "base_uri": "https://localhost:8080/"
        },
        "id": "sy-nr_MSkqy5",
        "outputId": "4511b431-668a-4cdc-9960-54cc45fa5943"
      },
      "execution_count": null,
      "outputs": [
        {
          "output_type": "stream",
          "name": "stdout",
          "text": [
            "50 150 250 350 450 550 650 750 850 950 1050 1150 1250 1350 1450 1550 1650 1750 1850 1950 2050 2150 2250 2350 2450 2550 2650 2750 2850 2950 "
          ]
        }
      ]
    },
    {
      "cell_type": "code",
      "source": [
        "r1 = []\n",
        "n1 = range(50,1000,50)\n",
        "def getn(m,n):\n",
        "    for t in m.triplets:\n",
        "        m[t.row, t.col]\n",
        "    \n",
        "for n in n1:\n",
        "    print (n, end=\" \")\n",
        "    m = random_sparse_matrix(200,200,n)\n",
        "    k = %timeit -o -q -r 3 -n 3 getn(m,n)\n",
        "    r1.append(k.best)"
      ],
      "metadata": {
        "id": "UIzSaQKglV1Y"
      },
      "execution_count": null,
      "outputs": []
    },
    {
      "cell_type": "code",
      "source": [
        "#------------------------#  "
      ],
      "metadata": {
        "id": "ELuEv7DnB4qN"
      },
      "execution_count": null,
      "outputs": []
    },
    {
      "cell_type": "code",
      "source": [
        "#LABORATORIO 3\n",
        "\n",
        "#1 Diccionario de Diccionarios\n",
        "\n",
        "def add_to_dict(d, key1, key2, val):\n",
        "    \n",
        "    if key1 not in d:\n",
        "        d[key1] = {}\n",
        "    d[key1][key2] = val\n",
        "    \n",
        "    return d"
      ],
      "metadata": {
        "id": "fdaEJXwyB40p"
      },
      "execution_count": null,
      "outputs": []
    },
    {
      "cell_type": "code",
      "source": [
        "d = {}\n",
        "add_to_dict(d, 10, 3,  \"20\")\n",
        "add_to_dict(d, 1, 5,  \"4\")\n",
        "add_to_dict(d, 1, 2, \"14\")\n",
        "print(d)"
      ],
      "metadata": {
        "id": "PxRl2mtLFz8m",
        "outputId": "fe68dc1c-154c-4d01-b33c-aace1dd1f5b7",
        "colab": {
          "base_uri": "https://localhost:8080/"
        }
      },
      "execution_count": null,
      "outputs": [
        {
          "output_type": "stream",
          "name": "stdout",
          "text": [
            "{10: {3: '20'}, 1: {5: '4', 2: '14'}}\n"
          ]
        }
      ]
    }
  ]
}