{
  "nbformat": 4,
  "nbformat_minor": 0,
  "metadata": {
    "colab": {
      "provenance": [],
      "authorship_tag": "ABX9TyPg8fnWyOCrJYE0GOqok00e",
      "include_colab_link": true
    },
    "kernelspec": {
      "name": "python3",
      "display_name": "Python 3"
    },
    "language_info": {
      "name": "python"
    }
  },
  "cells": [
    {
      "cell_type": "markdown",
      "metadata": {
        "id": "view-in-github",
        "colab_type": "text"
      },
      "source": [
        "<a href=\"https://colab.research.google.com/github/EmmanuelUdeA/Logica2/blob/main/Polinomios.ipynb\" target=\"_parent\"><img src=\"https://colab.research.google.com/assets/colab-badge.svg\" alt=\"Open In Colab\"/></a>"
      ]
    },
    {
      "cell_type": "code",
      "execution_count": null,
      "metadata": {
        "id": "P_u3lRyjcIPc"
      },
      "outputs": [],
      "source": [
        "import numpy as np\n",
        "import matplotlib.pyplot as plt\n",
        "import bisect"
      ]
    },
    {
      "cell_type": "code",
      "source": [
        "print(\"Polinomios LOGICA 2\")"
      ],
      "metadata": {
        "id": "cO5FOSjFcTOL"
      },
      "execution_count": null,
      "outputs": []
    },
    {
      "cell_type": "code",
      "source": [
        "from IPython.display import Math\n",
        "import numpy as np\n",
        "import numbers\n",
        "\n",
        "class Pol:\n",
        "    \n",
        "    def __init__(self, elements=[]):\n",
        "        self.elements = list(elements)\n",
        "        \n",
        "    def isEmpty(self):\n",
        "        return len(self.elements==0)\n",
        "        \n",
        "    def add_term(self, coef, exp):\n",
        "        assert (isinstance(coef, numbers.Real) or isinstance(coef,numbers.Integral)) and isinstance(exp, numbers.Integral), \\\n",
        "                \"coef/exp must be float/int\"\n",
        "        self.elements.append((coef,exp))\n",
        "        return self\n",
        "        \n",
        "    def sum(self, q):\n",
        "        r = self.__class__()\n",
        "        for c,e in self.elements+q.elements:\n",
        "            r.add_term(c,e)\n",
        "        return r\n",
        "    \n",
        "    def show(self):\n",
        "        s = \"+\".join([\"%s^{%s}\"%(str(c) if e==0 else str(c)+\"x\" if c!=1 else \"x\", str(e) if e not in [0,1] else \"\") for c,e in self.elements if c!=0])\n",
        "        s = s.replace(\"+-\", \"-\")\n",
        "        return Math(s)\n",
        "\n",
        "class Pol2(Pol):\n",
        "    \n",
        "    def clone(self):\n",
        "        return Pol2(list(self.elements))\n",
        "    \n",
        "    def smult(self, d,f):\n",
        "        assert (isinstance(d, numbers.Real) or isinstance(d,numbers.Integral)) and isinstance(f, numbers.Integral), \"coef/exp must be float/int\"\n",
        "        r = self.__class__()\n",
        "        r.elements = [(c*d, e+f) for c,e in self.elements]\n",
        "        return r\n",
        "\n",
        "class Pol3(Pol2):\n",
        "    \n",
        "    def mult(self, q):\n",
        "        terms = [q.smult(c,e) for c,e in self.elements]\n",
        "        r = terms[0]\n",
        "        for t in terms[1:]:\n",
        "            r = r.sum(t)\n",
        "        \n",
        "        return r\n",
        "\n",
        "class Pol4(Pol3):\n",
        "    \n",
        "    def grade(self):\n",
        "        return np.max([e for c,e in self.elements])\n",
        "    \n",
        "    def coef(self,f):\n",
        "        return np.sum([c for c,e in self.elements if e==f])\n",
        "\n",
        "\n",
        "class Pol5(Pol4):\n",
        "    \n",
        "    def simplify(self):\n",
        "        exps  = np.sort(np.unique([e for c,e in self.elements]))\n",
        "        coefs = [self.coef(f) for f in exps]\n",
        "        return Pol5 ([(c,e) for c,e in zip(coefs, exps)])\n",
        "\n",
        "  "
      ],
      "metadata": {
        "id": "ds7D7_sacldE"
      },
      "execution_count": null,
      "outputs": []
    },
    {
      "cell_type": "code",
      "source": [
        "p = Pol().add_term(3,5).add_term(4,2).add_term(3,0).add_term(5,10)\n",
        "print(p.elements)\n",
        "p.show()\n",
        "\n",
        "q = Pol().add_term(2,1).add_term(7,2)\n",
        "print(q.elements)\n",
        "q.show()\n",
        "\n",
        "p.sum(q).show()\n",
        "\n"
      ],
      "metadata": {
        "colab": {
          "base_uri": "https://localhost:8080/",
          "height": 73
        },
        "id": "FN_iy8gBoEQd",
        "outputId": "7e8b34c9-e03f-4fcc-de39-5eb9cbf71e98"
      },
      "execution_count": null,
      "outputs": [
        {
          "output_type": "stream",
          "name": "stdout",
          "text": [
            "[(3, 5), (4, 2), (3, 0), (5, 10)]\n",
            "[(2, 1), (7, 2)]\n"
          ]
        },
        {
          "output_type": "execute_result",
          "data": {
            "text/plain": [
              "<IPython.core.display.Math object>"
            ],
            "text/latex": "$\\displaystyle 3x^{5}+4x^{2}+3^{}+5x^{10}+2x^{}+7x^{2}$"
          },
          "metadata": {},
          "execution_count": 9
        }
      ]
    },
    {
      "cell_type": "code",
      "source": [
        "p = Pol3().add_term(3,5).add_term(4,2)\n",
        "q = Pol3().add_term(2,1).add_term(7,2)\n",
        "\n",
        "p.show()\n",
        "\n",
        "q.show()\n",
        "\n",
        "\n",
        "p.mult(q).show()\n"
      ],
      "metadata": {
        "colab": {
          "base_uri": "https://localhost:8080/",
          "height": 38
        },
        "id": "DcMvDAnvo7Tm",
        "outputId": "f76254c9-2825-428a-d37d-ad7818dc724b"
      },
      "execution_count": null,
      "outputs": [
        {
          "output_type": "execute_result",
          "data": {
            "text/plain": [
              "<IPython.core.display.Math object>"
            ],
            "text/latex": "$\\displaystyle 6x^{6}+21x^{7}+8x^{3}+28x^{4}$"
          },
          "metadata": {},
          "execution_count": 8
        }
      ]
    },
    {
      "cell_type": "code",
      "source": [
        "p = Pol5().add_term(3,5).add_term(4,8).add_term(7,5).add_term(-2,8).add_term(2.87, 3)\n",
        "p.show()\n",
        "p.simplify().show()"
      ],
      "metadata": {
        "colab": {
          "base_uri": "https://localhost:8080/",
          "height": 38
        },
        "id": "-AlA6mFUyto7",
        "outputId": "a3251779-df66-4a42-ec61-b95220273067"
      },
      "execution_count": null,
      "outputs": [
        {
          "output_type": "execute_result",
          "data": {
            "text/plain": [
              "<IPython.core.display.Math object>"
            ],
            "text/latex": "$\\displaystyle 2.87x^{3}+10x^{5}+2x^{8}$"
          },
          "metadata": {},
          "execution_count": 11
        }
      ]
    },
    {
      "cell_type": "code",
      "source": [
        "a = [2, 5, 6, 10, 12, 13, 15, 20, 111, 20000, 22222]\n",
        "print(np.searchsorted(a, 2))\n",
        "print(np.searchsorted(a, 7))\n",
        "print(np.searchsorted(a, 0))\n",
        "print(np.searchsorted(a, 6))\n",
        "print(np.searchsorted(a, 12))\n",
        "print(np.searchsorted(a,19))\n",
        "\n",
        "\n",
        "k = [1, 4, 10, 3, 5, 12, 14, 18, 22, 33, 44, 50]\n",
        "i = 3\n",
        "element = 89\n",
        "ii = 5\n",
        "element2 = 55\n",
        "\n",
        "k_updated = k[:i] + [element] + k[i:]\n",
        "k_updated2 = k[ii:] + [element2] + k[:ii]\n",
        "\n",
        "print(k)\n",
        "print(k_updated)\n",
        "print(k_updated2)\n"
      ],
      "metadata": {
        "id": "73bBQgE_z2Tb"
      },
      "execution_count": null,
      "outputs": []
    },
    {
      "cell_type": "code",
      "source": [
        "#LABORATORIO 2 POLINOMIOS\n",
        "\n",
        "#1.\n",
        "\n",
        "def Pol1(**kwargs):\n",
        "    import numpy as np\n",
        "\n",
        "    class Pol1__class:\n",
        "\n",
        "        def __init__(self):\n",
        "            self.exps = []\n",
        "            self.coefs = []\n",
        "\n",
        "        def len(self):\n",
        "            return len(self.exps)\n",
        "\n",
        "        def add_term(self, c, e):\n",
        "          \n",
        "          k = np.searchsorted(self.exps, e)\n",
        "\n",
        "          if k > len(self.exps):\n",
        "                #  agregar termino al final\n",
        "                self.coefs.append(c)\n",
        "                self.exps.append(e)\n",
        "          elif self.exps[k] == e:\n",
        "                # Add the coefficient to the corresponding term\n",
        "                # Add el coeficiente en el termino correcto\n",
        "                self.coefs[k] += c\n",
        "          else:\n",
        "                # Insertar en la posicion k\n",
        "                self.coefs.insert(k, c)\n",
        "                self.exps.insert(k, e)\n",
        "          assert len(self.exps)==len(self.coefs), \"must have the same number of exps and coefs\"\n",
        "          return self\n",
        "\n",
        "        def show(self):\n",
        "            from IPython.display import Math, HTML, display\n",
        "            display(HTML(\"<script src='https://cdnjs.cloudflare.com/ajax/libs/mathjax/2.7.3/latest.js?config=default'></script>\"))          \n",
        "            s = \"+\".join([\"%s^{%s}\"%(str(c) if e==0 else str(c)+\"x\" if c!=1 else \"x\", str(e) if e not in [0,1] else \"\") for e,c in zip(self.exps, self.coefs) if c!=0])\n",
        "            s = s.replace(\"+-\", \"-\")\n",
        "            return Math(s)\n",
        "        \n",
        "    return Pol1__class(**kwargs)\n",
        "\n",
        "p = Pol1()\n",
        "p.add_term(3,2).add_term(2,1).add_term(2,0).add_term(4,5).add_term(6,2).add_term(-3,0).show()\n",
        "\n",
        "\n"
      ],
      "metadata": {
        "id": "lJ-xIu5FztWt",
        "colab": {
          "base_uri": "https://localhost:8080/",
          "height": 38
        },
        "outputId": "06b6f395-4dbc-4e17-d397-8bde7dcc5da0"
      },
      "execution_count": null,
      "outputs": [
        {
          "output_type": "display_data",
          "data": {
            "text/plain": [
              "<IPython.core.display.HTML object>"
            ],
            "text/html": [
              "<script src='https://cdnjs.cloudflare.com/ajax/libs/mathjax/2.7.3/latest.js?config=default'></script>"
            ]
          },
          "metadata": {}
        },
        {
          "output_type": "execute_result",
          "data": {
            "text/plain": [
              "<IPython.core.display.Math object>"
            ],
            "text/latex": "$\\displaystyle -1^{}+2x^{}+9x^{2}+4x^{5}$"
          },
          "metadata": {},
          "execution_count": 8
        }
      ]
    },
    {
      "cell_type": "code",
      "source": [
        "q = Pol1()\n",
        "q.add_term(2,2).add_term(3,3).add_term(1,1).add_term(4,4).add_term(-3,0).show()\n"
      ],
      "metadata": {
        "colab": {
          "base_uri": "https://localhost:8080/",
          "height": 38
        },
        "id": "CbEG1jqCZdfY",
        "outputId": "053f3d88-40c1-4ba1-eb9a-c4247a1c11c5"
      },
      "execution_count": null,
      "outputs": [
        {
          "output_type": "display_data",
          "data": {
            "text/plain": [
              "<IPython.core.display.HTML object>"
            ],
            "text/html": [
              "<script src='https://cdnjs.cloudflare.com/ajax/libs/mathjax/2.7.3/latest.js?config=default'></script>"
            ]
          },
          "metadata": {}
        },
        {
          "output_type": "execute_result",
          "data": {
            "text/plain": [
              "<IPython.core.display.Math object>"
            ],
            "text/latex": "$\\displaystyle -3^{}+x^{}+2x^{2}+3x^{3}+4x^{4}$"
          },
          "metadata": {},
          "execution_count": 9
        }
      ]
    },
    {
      "cell_type": "code",
      "source": [
        "# 2 OPERACION SUMA ENTRE POLINOMIOS\n",
        "\n",
        "def Pol2(**kwargs):\n",
        "    import numpy as np\n",
        "    class Pol2__class:\n",
        "\n",
        "        def __init__(self):\n",
        "            self.exps = []\n",
        "            self.coefs = []\n",
        "\n",
        "        def len(self):\n",
        "            return len(self.exps)\n",
        "\n",
        "        def add_term(self, c, e):\n",
        "          k = np.searchsorted(self.exps, e)\n",
        "\n",
        "          if k >= len(self.exps):\n",
        "            #  agregar termino al final\n",
        "                self.coefs.append(c)\n",
        "                self.exps.append(e)\n",
        "          elif self.exps[k] == e:\n",
        "                # Add the coefficient to the corresponding term\n",
        "                # Add el coeficiente en el termino correcto\n",
        "                self.coefs[k] += c\n",
        "          else:\n",
        "                # Insertar en la posicion k\n",
        "                self.coefs.insert(k, c)\n",
        "                self.exps.insert(k, e)\n",
        "          assert len(self.exps)==len(self.coefs), \"must have the same number of exps and coefs\"\n",
        "          \n",
        "          return self\n",
        "        \n",
        "        def sum(self, q):\n",
        "            r = self.__class__()\n",
        "            for c,c2,e,e2 in zip(self.coefs, q.coefs, self.exps, q.exps):\n",
        "              if(e==e2):\n",
        "                r.add_term(c+c2,e)\n",
        "              elif(e<e2):\n",
        "                  r.add_term(c, e)\n",
        "                  r.add_term(c2, e2)\n",
        "              else:\n",
        "                  r.add_term(c2, e2)\n",
        "                  r.add_term(c, e)\n",
        "            return r\n",
        "\n",
        "        def show(self):\n",
        "            from IPython.display import Math, HTML, display\n",
        "            display(HTML(\"<script src='https://cdnjs.cloudflare.com/ajax/libs/mathjax/2.7.3/latest.js?config=default'></script>\"))          \n",
        "            s = \"+\".join([\"%s^{%s}\"%(str(c) if e==0 else str(c)+\"x\" if c!=1 else \"x\", str(e) if e not in [0,1] else \"\") for e,c in zip(self.exps, self.coefs) if c!=0])\n",
        "            s = s.replace(\"+-\", \"-\")\n",
        "            return Math(s)\n",
        "\n",
        "    return Pol2__class(**kwargs)\n",
        "\n",
        "p = Pol2()\n",
        "p.add_term(3,2).add_term(2,1).add_term(4,5).add_term(6,2)\n",
        "p.show()\n",
        "q = Pol2()\n",
        "q.add_term(1,5).add_term(4,1).add_term(3,3)\n",
        "q.show()\n",
        "p.sum(q).show()"
      ],
      "metadata": {
        "id": "J7DguWw-J7V1"
      },
      "execution_count": null,
      "outputs": []
    },
    {
      "cell_type": "code",
      "source": [
        "# 3 LISTA DE COEFICIENTES\n",
        "\n",
        "def Pol3(**kwargs):\n",
        "    import numpy as np\n",
        "\n",
        "    class Pol3__class:\n",
        "\n",
        "        def __init__(self):\n",
        "            self.coefs = [0]\n",
        "\n",
        "        def add_term(self, c, e):\n",
        "            max_exp = len(self.coefs)-1\n",
        "            if e > max_exp:\n",
        "            # Añadir ceros a la lista para que tenga la longitud correcta\n",
        "              self.coefs += [0] * (e - max_exp)\n",
        "            #Añadir c al elemento correspondiente de la lista\n",
        "              \n",
        "            self.coefs[e] += c\n",
        "            \n",
        "            return self\n",
        "\n",
        "        def show(self):\n",
        "            from IPython.display import Math, HTML, display\n",
        "            display(HTML(\"<script src='https://cdnjs.cloudflare.com/ajax/libs/mathjax/2.7.3/latest.js?config=default'></script>\"))          \n",
        "            s = \"+\".join([\"%s^{%s}\"%(str(c) if e==0 else str(c)+\"x\" if c!=1 else \"x\", str(e) if e not in [0,1] else \"\") for e,c in enumerate(self.coefs) if c!=0])\n",
        "            s = s.replace(\"+-\", \"-\")\n",
        "            return Math(s)\n",
        "    \n",
        "    return Pol3__class(**kwargs)\n",
        "\n",
        "p = Pol3()\n",
        "p.add_term(2,0).add_term(1,5).add_term(3,2).add_term(5,5)\n",
        "print(p.coefs)\n",
        "p.show()"
      ],
      "metadata": {
        "id": "AikjVyiYbAwA"
      },
      "execution_count": null,
      "outputs": []
    },
    {
      "cell_type": "code",
      "source": [
        "p.add_term(1,8)\n",
        "print(p.coefs)\n",
        "p.show()"
      ],
      "metadata": {
        "id": "pdwASlyEVF29"
      },
      "execution_count": null,
      "outputs": []
    },
    {
      "cell_type": "code",
      "source": [
        "p.add_term(12,10)\n",
        "print(p.coefs)\n",
        "p.show()\n"
      ],
      "metadata": {
        "id": "wGX-D-J3VLhJ"
      },
      "execution_count": null,
      "outputs": []
    },
    {
      "cell_type": "code",
      "source": [
        "# 4 SUMAR 2 ARRAYS \n",
        "\n",
        "def add_lists(a,b):\n",
        "    # DETERMINAMOS LA LONGITUD MAXIMA\n",
        "    max_length = max(len(a), len(b))\n",
        "    # AGREGA 0 A LA LISTA PEQUEÑA. ACLARAR QUE 0 ES UNA CONSTANTE, EN CASO DE NO HACERLO SERA REFLECT\n",
        "    a = np.pad(a, (0, max_length - len(a)), mode='constant') \n",
        "    b = np.pad(b, (0, max_length - len(b)), mode='constant')\n",
        "    result = a + b\n",
        "    return result.tolist()\n",
        "\n",
        "print(add_lists([1,4,5], [2,2]))\n",
        "print(add_lists([1,4,5], [2,2,2]))\n",
        "print(add_lists([1,4,5], [2,2,2,2]))\n",
        "print(add_lists([1,4,5], [5,6,4,3,2,11] ))"
      ],
      "metadata": {
        "id": "all3FCdnVmsp"
      },
      "execution_count": null,
      "outputs": []
    },
    {
      "cell_type": "code",
      "source": [
        "# 5  SUMA IMPLEMENTANDO ADD LIST\n",
        "\n",
        "def Pol5(**kwargs):\n",
        "    import numpy as np\n",
        "    def add_lists(a,b):\n",
        "        # DETERMINAMOS LA LONGITUD MAXIMA\n",
        "        max_length = max(len(a), len(b))\n",
        "        # AGREGA 0 A LA LISTA PEQUEÑA. ACLARAR QUE 0 ES UNA CONSTANTE, EN CASO DE NO HACERLO SERA REFLECT\n",
        "        a = np.pad(a, (0, max_length - len(a)), mode='constant') \n",
        "        b = np.pad(b, (0, max_length - len(b)), mode='constant')\n",
        "        result = a + b\n",
        "        return result.tolist()\n",
        "\n",
        "    class Pol5__class:\n",
        "\n",
        "        def __init__(self):\n",
        "            self.coefs = [0]\n",
        "           \n",
        "\n",
        "        def add_term(self, c, e):\n",
        "            max_exp = len(self.coefs)-1\n",
        "            if e > max_exp:\n",
        "            # Añadir ceros a la lista para que tenga la longitud correcta\n",
        "              self.coefs += [0] * (e - max_exp)\n",
        "            #Añadir c al elemento correspondiente de la lista\n",
        "              \n",
        "            self.coefs[e] += c\n",
        "            \n",
        "            return self\n",
        "\n",
        "        def sum(self, q):\n",
        "            r = self.__class__()\n",
        "\n",
        "            # Compute the coefficients of the sum polynomial using add_lists()\n",
        "            r.coefs = add_lists(self.coefs, q.coefs)\n",
        "\n",
        "            # Return the result polynomial\n",
        "            return r\n",
        "\n",
        "        def show(self):\n",
        "            from IPython.display import Math, HTML, display\n",
        "            display(HTML(\"<script src='https://cdnjs.cloudflare.com/ajax/libs/mathjax/2.7.3/latest.js?config=default'></script>\"))          \n",
        "            s = \"+\".join([\"%s^{%s}\"%(str(c) if e==0 else str(c)+\"x\" if c!=1 else \"x\", str(e) if e not in [0,1] else \"\") for e,c in enumerate(self.coefs) if c!=0])\n",
        "            s = s.replace(\"+-\", \"-\")\n",
        "            return Math(s)\n",
        "        \n",
        "    return Pol5__class(**kwargs)\n",
        "\n",
        "p = Pol5()\n",
        "p.add_term(3,2).add_term(2,1).add_term(4,5).add_term(6,2)\n",
        "p.show()\n",
        "\n",
        "q = Pol5()\n",
        "q.add_term(1,5).add_term(4,1).add_term(3,8)\n",
        "q.show()\n",
        "\n",
        "s = p.sum(q)\n",
        "print(s.coefs)\n",
        "s.show()\n"
      ],
      "metadata": {
        "id": "Y7vhKWMmcrhO"
      },
      "execution_count": null,
      "outputs": []
    },
    {
      "cell_type": "code",
      "source": [
        "def Pol6(**kwargs):\n",
        "\n",
        "    class Pol6__class:\n",
        "\n",
        "        def __init__(self):\n",
        "            self.coefs = []\n",
        "\n",
        "        def add_term(self, c, e):\n",
        "\n",
        "            max_exp = len(self.coefs)-1\n",
        "            if e > max_exp:\n",
        "            # Añadir ceros a la lista para que tenga la longitud correcta\n",
        "              self.coefs += [0] * (e - max_exp)\n",
        "            #Añadir c al elemento correspondiente de la lista\n",
        "              \n",
        "            self.coefs[e] += c\n",
        "            \n",
        "            return self\n",
        "\n",
        "        def sum(self, q):\n",
        "            r = self.__class__()\n",
        "\n",
        "            r.coefs = add_lists(self.coefs, q.coefs)\n",
        "\n",
        "            return r\n",
        "\n",
        "        def mult(self, q):\n",
        "            r = self.__class__()\n",
        "\n",
        "            for i in range(len(self.coefs)):\n",
        "              for j in range(len(q.coefs)):\n",
        "                coef = self.coefs[i] * q.coefs[j]\n",
        "                exp = i + j\n",
        "                r.add_term(coef, exp)\n",
        "            return r\n",
        "\n",
        "        def show(self):\n",
        "            from IPython.display import Math, HTML, display\n",
        "            display(HTML(\"<script src='https://cdnjs.cloudflare.com/ajax/libs/mathjax/2.7.3/latest.js?config=default'></script>\"))          \n",
        "            s = \"+\".join([\"%s^{%s}\"%(str(c) if e==0 else str(c)+\"x\" if c!=1 else \"x\", str(e) if e not in [0,1] else \"\") for e,c in enumerate(self.coefs) if c!=0])\n",
        "            s = s.replace(\"+-\", \"-\")\n",
        "            return Math(s)\n",
        "        \n",
        "    return Pol6__class(**kwargs)\n",
        "\n",
        "p = Pol6()\n",
        "p.add_term(3,2).add_term(2,1).add_term(4,5)\n",
        "p.show()\n",
        "\n",
        "q = Pol6()\n",
        "q.add_term(2,5).add_term(4,1).add_term(3,8)\n",
        "q.show()\n",
        "p.mult(q).show()"
      ],
      "metadata": {
        "id": "3fEiFQBApBMQ"
      },
      "execution_count": null,
      "outputs": []
    },
    {
      "cell_type": "code",
      "source": [
        "p = Pol6()\n",
        "p.add_term(3,2).add_term(2,1).add_term(4,5)\n",
        "p.show()\n"
      ],
      "metadata": {
        "id": "fmhCftaXrQi5"
      },
      "execution_count": null,
      "outputs": []
    },
    {
      "cell_type": "code",
      "source": [
        "q = Pol6()\n",
        "q.add_term(2,5).add_term(4,1).add_term(3,8)\n",
        "q.show()\n"
      ],
      "metadata": {
        "id": "hrXoyFYVrRmb"
      },
      "execution_count": null,
      "outputs": []
    },
    {
      "cell_type": "code",
      "source": [
        "p.mult(q).show()"
      ],
      "metadata": {
        "id": "P7lJmB8Wrinj"
      },
      "execution_count": null,
      "outputs": []
    },
    {
      "cell_type": "code",
      "source": [],
      "metadata": {
        "id": "wu650IaqriuX"
      },
      "execution_count": null,
      "outputs": []
    }
  ]
}